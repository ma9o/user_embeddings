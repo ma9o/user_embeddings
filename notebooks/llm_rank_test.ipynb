{
 "cells": [
  {
   "cell_type": "code",
   "execution_count": 1,
   "metadata": {},
   "outputs": [],
   "source": [
    "from google import genai\n",
    "from google.genai.types import EmbedContentConfig\n",
    "\n",
    "GEMINI_EMBEDDING_MODEL_ID = \"text-embedding-large-exp-03-07\" \n",
    "# Embedding dimension\n",
    "EMBEDDING_DIMENSION = 3072  # Dimension for text-embedding-005 model\n",
    "\n",
    "embedding_client = genai.Client(vertexai=True, project=\"enclaveid\", location=\"us-central1\")\n",
    "\n",
    "# Helper function to generate embeddings using Google Generative AI\n",
    "async def generate_vertex_embedding(text: str) -> list[float]:\n",
    "    \"\"\"Generates embedding for a given text using Google Generative AI.\"\"\"\n",
    "    # Use the genai library to get embeddings\n",
    "    response = embedding_client.models.embed_content(\n",
    "        model=GEMINI_EMBEDDING_MODEL_ID,\n",
    "        contents=[text],\n",
    "        config=EmbedContentConfig(\n",
    "            task_type=\"SEMANTIC_SIMILARITY\",  # Setting the task type\n",
    "            output_dimensionality=EMBEDDING_DIMENSION,  # Setting the output dimension\n",
    "        ),\n",
    "    )\n",
    "    \n",
    "    # Extract the embedding values from the response\n",
    "    if response and response.embeddings and len(response.embeddings) > 0:\n",
    "        embedding_values = response.embeddings[0].values\n",
    "        \n",
    "        if len(embedding_values) != EMBEDDING_DIMENSION:\n",
    "            print(f\"Warning: Embedding dimension mismatch. Expected {EMBEDDING_DIMENSION}, got {len(embedding_values)}\")\n",
    "            raise ValueError(f\"Embedding dimension mismatch. Expected {EMBEDDING_DIMENSION}, got {len(embedding_values)}\")\n",
    "            \n",
    "        return embedding_values\n",
    "    else:\n",
    "        print(\"Warning: No embedding values returned\")\n",
    "        raise ValueError(\"No embedding values returned\")"
   ]
  },
  {
   "cell_type": "code",
   "execution_count": 2,
   "metadata": {},
   "outputs": [],
   "source": [
    "import os\n",
    "import openai\n",
    "\n",
    "TEACHER_MODEL = \"google/gemma-3-27b-it\"\n",
    "JUDGE_MODEL = \"google/gemini-2.5-pro-preview-03-25\"\n",
    "\n",
    "openrouter_client = openai.OpenAI(\n",
    "  base_url=\"https://openrouter.ai/api/v1\",\n",
    "  api_key=os.getenv(\"OPENROUTER_API_KEY\"),\n",
    ")\n",
    "\n",
    "def get_completion(model, data) -> str:\n",
    "    completion = openrouter_client.chat.completions.create(\n",
    "      extra_body={},\n",
    "      model=model,\n",
    "      messages=[\n",
    "        {\n",
    "          \"role\": \"user\",\n",
    "          \"content\": [\n",
    "            {\n",
    "              \"type\": \"text\",\n",
    "              \"text\": data\n",
    "            },\n",
    "          ]\n",
    "        }\n",
    "      ]\n",
    "    )\n",
    "    return completion.choices[0].message.content"
   ]
  },
  {
   "cell_type": "code",
   "execution_count": null,
   "metadata": {},
   "outputs": [],
   "source": []
  }
 ],
 "metadata": {
  "kernelspec": {
   "display_name": ".venv",
   "language": "python",
   "name": "python3"
  },
  "language_info": {
   "codemirror_mode": {
    "name": "ipython",
    "version": 3
   },
   "file_extension": ".py",
   "mimetype": "text/x-python",
   "name": "python",
   "nbconvert_exporter": "python",
   "pygments_lexer": "ipython3",
   "version": "3.13.2"
  }
 },
 "nbformat": 4,
 "nbformat_minor": 2
}
