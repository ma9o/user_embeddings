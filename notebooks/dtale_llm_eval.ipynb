{
 "cells": [
  {
   "cell_type": "code",
   "execution_count": 1,
   "metadata": {},
   "outputs": [],
   "source": [
    "import dtale.global_state as global_state\n",
    "import pandas as pd\n",
    "from dtale import show\n",
    "\n",
    "global_state.set_app_settings(dict(max_column_width=300))\n"
   ]
  },
  {
   "cell_type": "code",
   "execution_count": 3,
   "metadata": {},
   "outputs": [
    {
     "name": "stderr",
     "output_type": "stream",
     "text": [
      "2025-04-17 16:15:50,626 - INFO     - Executing shutdown due to inactivity...\n",
      "2025-04-17 16:15:50,722 - INFO     - Executing shutdown...\n",
      "2025-04-17 16:15:50,723 - INFO     - Not running with the Werkzeug Server, exiting by searching gc for BaseWSGIServer\n"
     ]
    }
   ],
   "source": [
    "df = pd.read_csv(\"../data/test_results/llm_evaluation_results_seed_1744895601.csv\")\n",
    "\n",
    "show(df).open_browser()"
   ]
  },
  {
   "cell_type": "code",
   "execution_count": null,
   "metadata": {},
   "outputs": [],
   "source": []
  }
 ],
 "metadata": {
  "kernelspec": {
   "display_name": ".venv",
   "language": "python",
   "name": "python3"
  },
  "language_info": {
   "codemirror_mode": {
    "name": "ipython",
    "version": 3
   },
   "file_extension": ".py",
   "mimetype": "text/x-python",
   "name": "python",
   "nbconvert_exporter": "python",
   "pygments_lexer": "ipython3",
   "version": "3.13.2"
  }
 },
 "nbformat": 4,
 "nbformat_minor": 2
}
