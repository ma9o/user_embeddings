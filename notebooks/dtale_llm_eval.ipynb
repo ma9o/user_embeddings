{
 "cells": [
  {
   "cell_type": "code",
   "execution_count": 1,
   "metadata": {},
   "outputs": [],
   "source": [
    "import dtale.global_state as global_state\n",
    "import pandas as pd\n",
    "from dtale import show\n",
    "\n",
    "global_state.set_app_settings(dict(max_column_width=300))\n"
   ]
  },
  {
   "cell_type": "code",
   "execution_count": 5,
   "metadata": {},
   "outputs": [],
   "source": [
    "filename = (\n",
    "    \"data/test_results/llm_eval_separation_combined_test_results_seed_1745828964.csv\"\n",
    ")\n",
    "\n",
    "df = pd.read_csv(f\"../{filename}\")\n",
    "\n",
    "show(df).open_browser()"
   ]
  },
  {
   "cell_type": "code",
   "execution_count": null,
   "metadata": {},
   "outputs": [],
   "source": []
  }
 ],
 "metadata": {
  "kernelspec": {
   "display_name": ".venv",
   "language": "python",
   "name": "python3"
  },
  "language_info": {
   "codemirror_mode": {
    "name": "ipython",
    "version": 3
   },
   "file_extension": ".py",
   "mimetype": "text/x-python",
   "name": "python",
   "nbconvert_exporter": "python",
   "pygments_lexer": "ipython3",
   "version": "3.13.3"
  }
 },
 "nbformat": 4,
 "nbformat_minor": 2
}
