{
 "cells": [
  {
   "cell_type": "code",
   "execution_count": 1,
   "metadata": {},
   "outputs": [],
   "source": [
    "import dtale.global_state as global_state\n",
    "import pandas as pd\n",
    "from dtale import show\n",
    "\n",
    "global_state.set_app_settings(dict(max_column_width=300))\n"
   ]
  },
  {
   "cell_type": "code",
   "execution_count": 20,
   "metadata": {},
   "outputs": [
    {
     "name": "stderr",
     "output_type": "stream",
     "text": [
      "2025-05-06 16:38:28,365 - INFO     - Executing shutdown due to inactivity...\n",
      "2025-05-06 16:38:28,375 - INFO     - Executing shutdown...\n",
      "2025-05-06 16:38:28,376 - INFO     - Not running with the Werkzeug Server, exiting by searching gc for BaseWSGIServer\n"
     ]
    }
   ],
   "source": [
    "filename = \"\"\"\n",
    "data/llm_rank_results/llm_rank_benchmark_workflow-koa_only_judge-google_gemini-2.5-pro-preview-03-25_prompt-koa_only_input-combined_test_results_seed_1746023047_20250506_153236.csv\n",
    "\"\"\".strip()\n",
    "\n",
    "df = pd.read_csv(f\"../{filename}\")\n",
    "\n",
    "show(df).open_browser()"
   ]
  },
  {
   "cell_type": "code",
   "execution_count": null,
   "metadata": {},
   "outputs": [],
   "source": []
  }
 ],
 "metadata": {
  "kernelspec": {
   "display_name": ".venv",
   "language": "python",
   "name": "python3"
  },
  "language_info": {
   "codemirror_mode": {
    "name": "ipython",
    "version": 3
   },
   "file_extension": ".py",
   "mimetype": "text/x-python",
   "name": "python",
   "nbconvert_exporter": "python",
   "pygments_lexer": "ipython3",
   "version": "3.13.3"
  }
 },
 "nbformat": 4,
 "nbformat_minor": 2
}
