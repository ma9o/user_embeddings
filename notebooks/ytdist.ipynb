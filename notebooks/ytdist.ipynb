{
 "cells": [
  {
   "cell_type": "code",
   "execution_count": 1,
   "metadata": {},
   "outputs": [],
   "source": [
    "import polars as pl\n",
    "\n",
    "df = pl.scan_ndjson(\"data/ytdis/ytdis_2008.json.zst\")"
   ]
  },
  {
   "cell_type": "code",
   "execution_count": 9,
   "metadata": {},
   "outputs": [],
   "source": [
    "res = df.limit(10).collect()"
   ]
  },
  {
   "cell_type": "code",
   "execution_count": 20,
   "metadata": {},
   "outputs": [
    {
     "data": {
      "text/html": [
       "<div><style>\n",
       ".dataframe > thead > tr,\n",
       ".dataframe > tbody > tr {\n",
       "  text-align: right;\n",
       "  white-space: pre-wrap;\n",
       "}\n",
       "</style>\n",
       "<small>shape: (10, 9)</small><table border=\"1\" class=\"dataframe\"><thead><tr><th>channel_id</th><th>comment_id</th><th>author_id</th><th>author</th><th>timestamp</th><th>like_count</th><th>favorited</th><th>text</th><th>profile_pic</th></tr><tr><td>str</td><td>str</td><td>str</td><td>str</td><td>i64</td><td>i64</td><td>bool</td><td>str</td><td>str</td></tr></thead><tbody><tr><td>&quot;UC---4L_ZYpL3JLggVgQdskQ&quot;</td><td>&quot;UgwEq4aHvzCnKIGAVFF4AaABAg&quot;</td><td>&quot;UCOZYe-wflaTKVrcJzFl9txQ&quot;</td><td>&quot;Kye&quot;</td><td>1223769600</td><td>0</td><td>false</td><td>&quot;can i play with your gun\r\n",
       "pref…</td><td>&quot;https://yt3.ggpht.com/ytc/AKed…</td></tr><tr><td>&quot;UC---7ihsF2WlHsyq9ANLBqQ&quot;</td><td>&quot;UgxTMWa8MW9Lk9_0gdJ4AaABAg&quot;</td><td>&quot;UCbrd5C35qRGd9B2WGIY6cZg&quot;</td><td>&quot;meh&quot;</td><td>1223769600</td><td>0</td><td>false</td><td>&quot;Hello, are you family of mine?&quot;</td><td>&quot;https://yt3.ggpht.com/ytc/AKed…</td></tr><tr><td>&quot;UC---9IlI6OPKPoqLcM9NBlg&quot;</td><td>&quot;UgwOm-nViGLEcieqmfJ4AaABAg&quot;</td><td>&quot;UCvc4qrivbFc3-Y7IzBkd-NQ&quot;</td><td>&quot;Dave Lock&quot;</td><td>1223683200</td><td>0</td><td>false</td><td>&quot;everyone on here needs to chil…</td><td>&quot;https://yt3.ggpht.com/NyXSnOZh…</td></tr><tr><td>&quot;UC---9IlI6OPKPoqLcM9NBlg&quot;</td><td>&quot;UgxIAcr2XfA_JzxMEQZ4AaABAg&quot;</td><td>&quot;UCWMSzB8vkl53LeiVQmhN-_A&quot;</td><td>&quot;germanicus24&quot;</td><td>1223683200</td><td>0</td><td>false</td><td>&quot;This Ryan guy actually complai…</td><td>&quot;https://yt3.ggpht.com/ytc/AKed…</td></tr><tr><td>&quot;UC---9IlI6OPKPoqLcM9NBlg&quot;</td><td>&quot;Ugy7zmg2QvuYYhxRWZt4AaABAg&quot;</td><td>&quot;UC---9IlI6OPKPoqLcM9NBlg&quot;</td><td>&quot;HyperMatri x&quot;</td><td>1223683200</td><td>0</td><td>false</td><td>&quot;Lol grin.&nbsp;&nbsp;I&#x27;m good at pissing…</td><td>&quot;https://yt3.ggpht.com/ytc/AKed…</td></tr><tr><td>&quot;UC---9IlI6OPKPoqLcM9NBlg&quot;</td><td>&quot;UgykcSqseRgN14aSgDl4AaABAg&quot;</td><td>&quot;UCjLNc8gUPXyLGnGqcw7eehA&quot;</td><td>&quot;MCPO117&quot;</td><td>1223683200</td><td>0</td><td>false</td><td>&quot;I find your comments quite ent…</td><td>&quot;https://yt3.ggpht.com/ytc/AKed…</td></tr><tr><td>&quot;UC---OBpdM2_uLIAvZH9ocIQ&quot;</td><td>&quot;UgwT1idDHlMtGzu1dr14AaABAg&quot;</td><td>&quot;UC---OBpdM2_uLIAvZH9ocIQ&quot;</td><td>&quot;Jojo863&quot;</td><td>1223683200</td><td>0</td><td>false</td><td>&quot;Yes, thank you! They were funn…</td><td>&quot;https://yt3.ggpht.com/ytc/AKed…</td></tr><tr><td>&quot;UC---OBpdM2_uLIAvZH9ocIQ&quot;</td><td>&quot;UgwmpQ-AYx0dNHr2g354AaABAg&quot;</td><td>&quot;UCZxLJ4edE7A2cIPLQIhwiyA&quot;</td><td>&quot;Lady Liberty&quot;</td><td>1223683200</td><td>0</td><td>false</td><td>&quot;Hiiiii, thanks for subscribing…</td><td>&quot;https://yt3.ggpht.com/rCcTyhim…</td></tr><tr><td>&quot;UC---OBpdM2_uLIAvZH9ocIQ&quot;</td><td>&quot;UgxeHus8lkgZgI4sLWJ4AaABAg&quot;</td><td>&quot;UC4VmtFLGgEE3T-80kvak0tA&quot;</td><td>&quot;myhomegirlDubs&quot;</td><td>1223683200</td><td>0</td><td>false</td><td>&quot;thank you for subscribing!\r\n",
       "\r\n",
       "…</td><td>&quot;https://yt3.ggpht.com/ytc/AKed…</td></tr><tr><td>&quot;UC---OBpdM2_uLIAvZH9ocIQ&quot;</td><td>&quot;UgxfQhv9AGK0eyk2taF4AaABAg&quot;</td><td>&quot;UCZp8Tmn5p3ylQYk41L55p-Q&quot;</td><td>&quot;Vashtie86&quot;</td><td>1223683200</td><td>0</td><td>false</td><td>&quot;Thanks for the videos JoJo! Th…</td><td>&quot;https://yt3.ggpht.com/ytc/AKed…</td></tr></tbody></table></div>"
      ],
      "text/plain": [
       "shape: (10, 9)\n",
       "┌───────────┬───────────┬───────────┬───────────┬───┬───────────┬───────────┬───────────┬──────────┐\n",
       "│ channel_i ┆ comment_i ┆ author_id ┆ author    ┆ … ┆ like_coun ┆ favorited ┆ text      ┆ profile_ │\n",
       "│ d         ┆ d         ┆ ---       ┆ ---       ┆   ┆ t         ┆ ---       ┆ ---       ┆ pic      │\n",
       "│ ---       ┆ ---       ┆ str       ┆ str       ┆   ┆ ---       ┆ bool      ┆ str       ┆ ---      │\n",
       "│ str       ┆ str       ┆           ┆           ┆   ┆ i64       ┆           ┆           ┆ str      │\n",
       "╞═══════════╪═══════════╪═══════════╪═══════════╪═══╪═══════════╪═══════════╪═══════════╪══════════╡\n",
       "│ UC---4L_Z ┆ UgwEq4aHv ┆ UCOZYe-wf ┆ Kye       ┆ … ┆ 0         ┆ false     ┆ can i     ┆ https:// │\n",
       "│ YpL3JLggV ┆ zCnKIGAVF ┆ laTKVrcJz ┆           ┆   ┆           ┆           ┆ play with ┆ yt3.ggph │\n",
       "│ gQdskQ    ┆ F4AaABAg  ┆ Fl9txQ    ┆           ┆   ┆           ┆           ┆ your gun\n",
       " ┆ t.com/yt │\n",
       "│           ┆           ┆           ┆           ┆   ┆           ┆           ┆ pref…     ┆ c/AKed…  │\n",
       "│ UC---7ihs ┆ UgxTMWa8M ┆ UCbrd5C35 ┆ meh       ┆ … ┆ 0         ┆ false     ┆ Hello,    ┆ https:// │\n",
       "│ F2WlHsyq9 ┆ W9Lk9_0gd ┆ qRGd9B2WG ┆           ┆   ┆           ┆           ┆ are you   ┆ yt3.ggph │\n",
       "│ ANLBqQ    ┆ J4AaABAg  ┆ IY6cZg    ┆           ┆   ┆           ┆           ┆ family of ┆ t.com/yt │\n",
       "│           ┆           ┆           ┆           ┆   ┆           ┆           ┆ mine?     ┆ c/AKed…  │\n",
       "│ UC---9IlI ┆ UgwOm-nVi ┆ UCvc4qriv ┆ Dave Lock ┆ … ┆ 0         ┆ false     ┆ everyone  ┆ https:// │\n",
       "│ 6OPKPoqLc ┆ GLEcieqmf ┆ bFc3-Y7Iz ┆           ┆   ┆           ┆           ┆ on here   ┆ yt3.ggph │\n",
       "│ M9NBlg    ┆ J4AaABAg  ┆ Bkd-NQ    ┆           ┆   ┆           ┆           ┆ needs to  ┆ t.com/Ny │\n",
       "│           ┆           ┆           ┆           ┆   ┆           ┆           ┆ chil…     ┆ XSnOZh…  │\n",
       "│ UC---9IlI ┆ UgxIAcr2X ┆ UCWMSzB8v ┆ germanicu ┆ … ┆ 0         ┆ false     ┆ This Ryan ┆ https:// │\n",
       "│ 6OPKPoqLc ┆ fA_JzxMEQ ┆ kl53LeiVQ ┆ s24       ┆   ┆           ┆           ┆ guy       ┆ yt3.ggph │\n",
       "│ M9NBlg    ┆ Z4AaABAg  ┆ mhN-_A    ┆           ┆   ┆           ┆           ┆ actually  ┆ t.com/yt │\n",
       "│           ┆           ┆           ┆           ┆   ┆           ┆           ┆ complai…  ┆ c/AKed…  │\n",
       "│ UC---9IlI ┆ Ugy7zmg2Q ┆ UC---9IlI ┆ HyperMatr ┆ … ┆ 0         ┆ false     ┆ Lol grin. ┆ https:// │\n",
       "│ 6OPKPoqLc ┆ vuYYhxRWZ ┆ 6OPKPoqLc ┆ i x       ┆   ┆           ┆           ┆ I'm good  ┆ yt3.ggph │\n",
       "│ M9NBlg    ┆ t4AaABAg  ┆ M9NBlg    ┆           ┆   ┆           ┆           ┆ at        ┆ t.com/yt │\n",
       "│           ┆           ┆           ┆           ┆   ┆           ┆           ┆ pissing…  ┆ c/AKed…  │\n",
       "│ UC---9IlI ┆ UgykcSqse ┆ UCjLNc8gU ┆ MCPO117   ┆ … ┆ 0         ┆ false     ┆ I find    ┆ https:// │\n",
       "│ 6OPKPoqLc ┆ RgN14aSgD ┆ PXyLGnGqc ┆           ┆   ┆           ┆           ┆ your      ┆ yt3.ggph │\n",
       "│ M9NBlg    ┆ l4AaABAg  ┆ w7eehA    ┆           ┆   ┆           ┆           ┆ comments  ┆ t.com/yt │\n",
       "│           ┆           ┆           ┆           ┆   ┆           ┆           ┆ quite     ┆ c/AKed…  │\n",
       "│           ┆           ┆           ┆           ┆   ┆           ┆           ┆ ent…      ┆          │\n",
       "│ UC---OBpd ┆ UgwT1idDH ┆ UC---OBpd ┆ Jojo863   ┆ … ┆ 0         ┆ false     ┆ Yes,      ┆ https:// │\n",
       "│ M2_uLIAvZ ┆ lMtGzu1dr ┆ M2_uLIAvZ ┆           ┆   ┆           ┆           ┆ thank     ┆ yt3.ggph │\n",
       "│ H9ocIQ    ┆ 14AaABAg  ┆ H9ocIQ    ┆           ┆   ┆           ┆           ┆ you! They ┆ t.com/yt │\n",
       "│           ┆           ┆           ┆           ┆   ┆           ┆           ┆ were      ┆ c/AKed…  │\n",
       "│           ┆           ┆           ┆           ┆   ┆           ┆           ┆ funn…     ┆          │\n",
       "│ UC---OBpd ┆ UgwmpQ-AY ┆ UCZxLJ4ed ┆ Lady      ┆ … ┆ 0         ┆ false     ┆ Hiiiii,   ┆ https:// │\n",
       "│ M2_uLIAvZ ┆ x0dNHr2g3 ┆ E7A2cIPLQ ┆ Liberty   ┆   ┆           ┆           ┆ thanks    ┆ yt3.ggph │\n",
       "│ H9ocIQ    ┆ 54AaABAg  ┆ IhwiyA    ┆           ┆   ┆           ┆           ┆ for subsc ┆ t.com/rC │\n",
       "│           ┆           ┆           ┆           ┆   ┆           ┆           ┆ ribing…   ┆ cTyhim…  │\n",
       "│ UC---OBpd ┆ UgxeHus8l ┆ UC4VmtFLG ┆ myhomegir ┆ … ┆ 0         ┆ false     ┆ thank you ┆ https:// │\n",
       "│ M2_uLIAvZ ┆ kgZgI4sLW ┆ gEE3T-80k ┆ lDubs     ┆   ┆           ┆           ┆ for subsc ┆ yt3.ggph │\n",
       "│ H9ocIQ    ┆ J4AaABAg  ┆ vak0tA    ┆           ┆   ┆           ┆           ┆ ribing!\n",
       "  ┆ t.com/yt │\n",
       "│           ┆           ┆           ┆           ┆   ┆           ┆           ┆ \n",
       "         ┆ c/AKed…  │\n",
       "│           ┆           ┆           ┆           ┆   ┆           ┆           ┆ …         ┆          │\n",
       "│ UC---OBpd ┆ UgxfQhv9A ┆ UCZp8Tmn5 ┆ Vashtie86 ┆ … ┆ 0         ┆ false     ┆ Thanks    ┆ https:// │\n",
       "│ M2_uLIAvZ ┆ GK0eyk2ta ┆ p3ylQYk41 ┆           ┆   ┆           ┆           ┆ for the   ┆ yt3.ggph │\n",
       "│ H9ocIQ    ┆ F4AaABAg  ┆ L55p-Q    ┆           ┆   ┆           ┆           ┆ videos    ┆ t.com/yt │\n",
       "│           ┆           ┆           ┆           ┆   ┆           ┆           ┆ JoJo! Th… ┆ c/AKed…  │\n",
       "└───────────┴───────────┴───────────┴───────────┴───┴───────────┴───────────┴───────────┴──────────┘"
      ]
     },
     "execution_count": 20,
     "metadata": {},
     "output_type": "execute_result"
    },
    {
     "name": "stderr",
     "output_type": "stream",
     "text": [
      "2025-04-10 12:38:57,271 - INFO     - Executing shutdown due to inactivity...\n",
      "2025-04-10 12:38:57,290 - INFO     - Executing shutdown...\n",
      "2025-04-10 12:38:57,291 - INFO     - Not running with the Werkzeug Server, exiting by searching gc for BaseWSGIServer\n"
     ]
    }
   ],
   "source": [
    "res"
   ]
  },
  {
   "cell_type": "code",
   "execution_count": null,
   "metadata": {},
   "outputs": [],
   "source": []
  }
 ],
 "metadata": {
  "kernelspec": {
   "display_name": ".venv",
   "language": "python",
   "name": "python3"
  },
  "language_info": {
   "codemirror_mode": {
    "name": "ipython",
    "version": 3
   },
   "file_extension": ".py",
   "mimetype": "text/x-python",
   "name": "python",
   "nbconvert_exporter": "python",
   "pygments_lexer": "ipython3",
   "version": "3.13.2"
  }
 },
 "nbformat": 4,
 "nbformat_minor": 2
}
