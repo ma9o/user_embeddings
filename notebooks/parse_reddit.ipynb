{
 "cells": [
  {
   "cell_type": "code",
   "execution_count": 1,
   "metadata": {},
   "outputs": [],
   "source": [
    "import polars as pl\n",
    "df = pl.scan_ndjson(\"../data/reddit/comments/RC_2015-01\", infer_schema_length=10000)\n",
    "\n",
    "# parsing \n",
    "df = df.with_columns(\n",
    "    pl.col(\"created_utc\").str.to_integer().mul(1000).cast(pl.Datetime(time_unit=\"ms\")).dt.replace_time_zone(\"UTC\")\n",
    ")\n",
    "\n",
    "CHAR_PER_TOKEN = 4\n",
    "\n",
    "with_tokens = df.with_columns(\n",
    "    token_count_approx=pl.col(\"body\").str.len_chars() / CHAR_PER_TOKEN\n",
    ")\n",
    "\n",
    "with_tokens.collect().write_ndjson(\"../data/reddit/comments/RC_2015-01_parsed.ndjson\")"
   ]
  }
 ],
 "metadata": {
  "kernelspec": {
   "display_name": ".venv",
   "language": "python",
   "name": "python3"
  },
  "language_info": {
   "codemirror_mode": {
    "name": "ipython",
    "version": 3
   },
   "file_extension": ".py",
   "mimetype": "text/x-python",
   "name": "python",
   "nbconvert_exporter": "python",
   "pygments_lexer": "ipython3",
   "version": "3.13.2"
  }
 },
 "nbformat": 4,
 "nbformat_minor": 2
}
