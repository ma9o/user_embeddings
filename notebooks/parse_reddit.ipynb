{
 "cells": [
  {
   "cell_type": "code",
   "execution_count": 1,
   "metadata": {},
   "outputs": [],
   "source": [
    "import polars as pl\n",
    "\n",
    "df = pl.scan_ndjson(\"../data/reddit/comments/RC_2015-01\", infer_schema_length=10000)\n",
    "\n",
    "# parsing\n",
    "df = df.with_columns(\n",
    "    pl.col(\"created_utc\")\n",
    "    .str.to_integer()\n",
    "    .mul(1000)\n",
    "    .cast(pl.Datetime(time_unit=\"ms\"))\n",
    "    .dt.replace_time_zone(\"UTC\")\n",
    ")"
   ]
  },
  {
   "cell_type": "code",
   "execution_count": 19,
   "metadata": {},
   "outputs": [],
   "source": [
    "import polars as pl\n",
    "\n",
    "df_submissions = pl.read_ndjson(\n",
    "    \"../data/reddit/submissions/RS_2015-01\",\n",
    "    ignore_errors=True,\n",
    "    infer_schema_length=None,\n",
    ")"
   ]
  },
  {
   "cell_type": "code",
   "execution_count": 23,
   "metadata": {},
   "outputs": [
    {
     "data": {
      "text/html": [
       "<div><style>\n",
       ".dataframe > thead > tr,\n",
       ".dataframe > tbody > tr {\n",
       "  text-align: right;\n",
       "  white-space: pre-wrap;\n",
       "}\n",
       "</style>\n",
       "<small>shape: (5, 21)</small><table border=\"1\" class=\"dataframe\"><thead><tr><th>score_hidden</th><th>name</th><th>link_id</th><th>body</th><th>downs</th><th>created_utc</th><th>score</th><th>author</th><th>distinguished</th><th>id</th><th>archived</th><th>parent_id</th><th>subreddit</th><th>author_flair_css_class</th><th>author_flair_text</th><th>gilded</th><th>retrieved_on</th><th>ups</th><th>controversiality</th><th>subreddit_id</th><th>edited</th></tr><tr><td>bool</td><td>str</td><td>str</td><td>str</td><td>i64</td><td>datetime[ms, UTC]</td><td>i64</td><td>str</td><td>str</td><td>str</td><td>bool</td><td>str</td><td>str</td><td>str</td><td>str</td><td>i64</td><td>i64</td><td>i64</td><td>i64</td><td>str</td><td>i64</td></tr></thead><tbody><tr><td>false</td><td>&quot;t1_co77gzp&quot;</td><td>&quot;t3_2ubiys&quot;</td><td>&quot;Shhh, let&#x27;s not turn this murd…</td><td>0</td><td>2015-01-31 23:59:59 UTC</td><td>1</td><td>&quot;Dymethyltryptamine&quot;</td><td>null</td><td>&quot;co77gzp&quot;</td><td>false</td><td>&quot;t1_co7350n&quot;</td><td>&quot;AdviceAnimals&quot;</td><td>null</td><td>null</td><td>0</td><td>1424281770</td><td>1</td><td>0</td><td>&quot;t5_2s7tt&quot;</td><td>0</td></tr><tr><td>false</td><td>&quot;t1_co77gzq&quot;</td><td>&quot;t3_2ucs3e&quot;</td><td>&quot;I use the lee filter system.\n",
       "\n",
       "…</td><td>0</td><td>2015-01-31 23:59:59 UTC</td><td>2</td><td>&quot;docfluty&quot;</td><td>null</td><td>&quot;co77gzq&quot;</td><td>false</td><td>&quot;t3_2ucs3e&quot;</td><td>&quot;photography&quot;</td><td>&quot;facebook&quot;</td><td>&quot;www.facebook.com/docfluty&quot;</td><td>0</td><td>1424281770</td><td>2</td><td>0</td><td>&quot;t5_2qh2a&quot;</td><td>0</td></tr><tr><td>false</td><td>&quot;t1_co77gzr&quot;</td><td>&quot;t3_2uayw8&quot;</td><td>&quot;Because it&#x27;s set to flash by d…</td><td>0</td><td>2015-01-31 23:59:59 UTC</td><td>1</td><td>&quot;2kewl4skoool&quot;</td><td>null</td><td>&quot;co77gzr&quot;</td><td>false</td><td>&quot;t1_co742y8&quot;</td><td>&quot;PS4&quot;</td><td>&quot;ps&quot;</td><td>&quot;SlamMonsterT&quot;</td><td>0</td><td>1424281770</td><td>1</td><td>0</td><td>&quot;t5_2rrlp&quot;</td><td>0</td></tr><tr><td>false</td><td>&quot;t1_co77gzs&quot;</td><td>&quot;t3_2ucst9&quot;</td><td>&quot;looks good &quot;</td><td>0</td><td>2015-01-31 23:59:59 UTC</td><td>1</td><td>&quot;trappinnorthtx&quot;</td><td>null</td><td>&quot;co77gzs&quot;</td><td>false</td><td>&quot;t3_2ucst9&quot;</td><td>&quot;supremeclothing&quot;</td><td>null</td><td>null</td><td>0</td><td>1424281770</td><td>1</td><td>0</td><td>&quot;t5_2tual&quot;</td><td>0</td></tr><tr><td>false</td><td>&quot;t1_co77gzt&quot;</td><td>&quot;t3_2uazsm&quot;</td><td>&quot;You can already shoot through …</td><td>0</td><td>2015-01-31 23:59:59 UTC</td><td>3</td><td>&quot;blolfighter&quot;</td><td>null</td><td>&quot;co77gzt&quot;</td><td>false</td><td>&quot;t1_co6zqmw&quot;</td><td>&quot;Warframe&quot;</td><td>&quot;valkyr-bastet&quot;</td><td>&quot;RRRAURGH!&quot;</td><td>0</td><td>1424281770</td><td>3</td><td>0</td><td>&quot;t5_2urg0&quot;</td><td>0</td></tr></tbody></table></div>"
      ],
      "text/plain": [
       "shape: (5, 21)\n",
       "┌─────────────┬────────────┬───────────┬─────────────┬───┬─────┬─────────────┬────────────┬────────┐\n",
       "│ score_hidde ┆ name       ┆ link_id   ┆ body        ┆ … ┆ ups ┆ controversi ┆ subreddit_ ┆ edited │\n",
       "│ n           ┆ ---        ┆ ---       ┆ ---         ┆   ┆ --- ┆ ality       ┆ id         ┆ ---    │\n",
       "│ ---         ┆ str        ┆ str       ┆ str         ┆   ┆ i64 ┆ ---         ┆ ---        ┆ i64    │\n",
       "│ bool        ┆            ┆           ┆             ┆   ┆     ┆ i64         ┆ str        ┆        │\n",
       "╞═════════════╪════════════╪═══════════╪═════════════╪═══╪═════╪═════════════╪════════════╪════════╡\n",
       "│ false       ┆ t1_co77gzp ┆ t3_2ubiys ┆ Shhh, let's ┆ … ┆ 1   ┆ 0           ┆ t5_2s7tt   ┆ 0      │\n",
       "│             ┆            ┆           ┆ not turn    ┆   ┆     ┆             ┆            ┆        │\n",
       "│             ┆            ┆           ┆ this murd…  ┆   ┆     ┆             ┆            ┆        │\n",
       "│ false       ┆ t1_co77gzq ┆ t3_2ucs3e ┆ I use the   ┆ … ┆ 2   ┆ 0           ┆ t5_2qh2a   ┆ 0      │\n",
       "│             ┆            ┆           ┆ lee filter  ┆   ┆     ┆             ┆            ┆        │\n",
       "│             ┆            ┆           ┆ system.     ┆   ┆     ┆             ┆            ┆        │\n",
       "│             ┆            ┆           ┆             ┆   ┆     ┆             ┆            ┆        │\n",
       "│             ┆            ┆           ┆ …           ┆   ┆     ┆             ┆            ┆        │\n",
       "│ false       ┆ t1_co77gzr ┆ t3_2uayw8 ┆ Because     ┆ … ┆ 1   ┆ 0           ┆ t5_2rrlp   ┆ 0      │\n",
       "│             ┆            ┆           ┆ it's set to ┆   ┆     ┆             ┆            ┆        │\n",
       "│             ┆            ┆           ┆ flash by d… ┆   ┆     ┆             ┆            ┆        │\n",
       "│ false       ┆ t1_co77gzs ┆ t3_2ucst9 ┆ looks good  ┆ … ┆ 1   ┆ 0           ┆ t5_2tual   ┆ 0      │\n",
       "│ false       ┆ t1_co77gzt ┆ t3_2uazsm ┆ You can     ┆ … ┆ 3   ┆ 0           ┆ t5_2urg0   ┆ 0      │\n",
       "│             ┆            ┆           ┆ already     ┆   ┆     ┆             ┆            ┆        │\n",
       "│             ┆            ┆           ┆ shoot       ┆   ┆     ┆             ┆            ┆        │\n",
       "│             ┆            ┆           ┆ through …   ┆   ┆     ┆             ┆            ┆        │\n",
       "└─────────────┴────────────┴───────────┴─────────────┴───┴─────┴─────────────┴────────────┴────────┘"
      ]
     },
     "execution_count": 23,
     "metadata": {},
     "output_type": "execute_result"
    }
   ],
   "source": [
    "df.tail().collect()"
   ]
  },
  {
   "cell_type": "code",
   "execution_count": 24,
   "metadata": {},
   "outputs": [
    {
     "data": {
      "text/html": [
       "<div><style>\n",
       ".dataframe > thead > tr,\n",
       ".dataframe > tbody > tr {\n",
       "  text-align: right;\n",
       "  white-space: pre-wrap;\n",
       "}\n",
       "</style>\n",
       "<small>shape: (1, 50)</small><table border=\"1\" class=\"dataframe\"><thead><tr><th>imp_pixel</th><th>promoted</th><th>score</th><th>quarantine</th><th>created</th><th>over_18</th><th>ups</th><th>name</th><th>distinguished</th><th>downs</th><th>secure_media</th><th>author</th><th>author_flair_css_class</th><th>mobile_ad_url</th><th>retrieved_on</th><th>permalink</th><th>secure_media_embed</th><th>hide_score</th><th>archived</th><th>author_flair_text</th><th>thumbnail</th><th>stickied</th><th>link_flair_css_class</th><th>is_self</th><th>num_comments</th><th>href_url</th><th>disable_comments</th><th>id</th><th>gilded</th><th>adserver_imp_pixel</th><th>media</th><th>url</th><th>link_flair_text</th><th>title</th><th>third_party_tracking</th><th>third_party_tracking_2</th><th>selftext</th><th>created_utc</th><th>saved</th><th>adserver_click_url</th><th>media_embed</th><th>domain</th><th>edited</th><th>from_kind</th><th>from_id</th><th>from</th><th>subreddit</th><th>subreddit_id</th><th>post_hint</th><th>preview</th></tr><tr><td>null</td><td>bool</td><td>i64</td><td>bool</td><td>i64</td><td>bool</td><td>i64</td><td>str</td><td>str</td><td>i64</td><td>struct[3]</td><td>str</td><td>str</td><td>str</td><td>i64</td><td>str</td><td>struct[4]</td><td>bool</td><td>bool</td><td>str</td><td>str</td><td>bool</td><td>str</td><td>bool</td><td>i64</td><td>str</td><td>bool</td><td>str</td><td>i64</td><td>null</td><td>struct[3]</td><td>str</td><td>str</td><td>str</td><td>null</td><td>null</td><td>str</td><td>str</td><td>bool</td><td>null</td><td>struct[4]</td><td>str</td><td>i64</td><td>null</td><td>null</td><td>null</td><td>str</td><td>str</td><td>str</td><td>struct[1]</td></tr></thead><tbody><tr><td>null</td><td>null</td><td>4215</td><td>false</td><td>1422725108</td><td>false</td><td>4215</td><td>&quot;t3_2ubiys&quot;</td><td>null</td><td>0</td><td>null</td><td>&quot;allisaurusrexxx&quot;</td><td>null</td><td>null</td><td>1440934467</td><td>&quot;/r/AdviceAnimals/comments/2ubi…</td><td>{null,null,null,null}</td><td>false</td><td>true</td><td>null</td><td>&quot;http://b.thumbs.redditmedia.co…</td><td>false</td><td>null</td><td>false</td><td>363</td><td>null</td><td>null</td><td>&quot;2ubiys&quot;</td><td>0</td><td>null</td><td>null</td><td>&quot;http://imgur.com/QRqkUEy&quot;</td><td>null</td><td>&quot;My roommate has been chatting …</td><td>null</td><td>null</td><td>&quot;&quot;</td><td>&quot;1422725108&quot;</td><td>false</td><td>null</td><td>{null,null,null,null}</td><td>&quot;imgur.com&quot;</td><td>0</td><td>null</td><td>null</td><td>null</td><td>&quot;AdviceAnimals&quot;</td><td>&quot;t5_2s7tt&quot;</td><td>null</td><td>null</td></tr></tbody></table></div>"
      ],
      "text/plain": [
       "shape: (1, 50)\n",
       "┌───────────┬──────────┬───────┬────────────┬───┬─────────────┬────────────┬───────────┬───────────┐\n",
       "│ imp_pixel ┆ promoted ┆ score ┆ quarantine ┆ … ┆ subreddit   ┆ subreddit_ ┆ post_hint ┆ preview   │\n",
       "│ ---       ┆ ---      ┆ ---   ┆ ---        ┆   ┆ ---         ┆ id         ┆ ---       ┆ ---       │\n",
       "│ null      ┆ bool     ┆ i64   ┆ bool       ┆   ┆ str         ┆ ---        ┆ str       ┆ struct[1] │\n",
       "│           ┆          ┆       ┆            ┆   ┆             ┆ str        ┆           ┆           │\n",
       "╞═══════════╪══════════╪═══════╪════════════╪═══╪═════════════╪════════════╪═══════════╪═══════════╡\n",
       "│ null      ┆ null     ┆ 4215  ┆ false      ┆ … ┆ AdviceAnima ┆ t5_2s7tt   ┆ null      ┆ null      │\n",
       "│           ┆          ┆       ┆            ┆   ┆ ls          ┆            ┆           ┆           │\n",
       "└───────────┴──────────┴───────┴────────────┴───┴─────────────┴────────────┴───────────┴───────────┘"
      ]
     },
     "execution_count": 24,
     "metadata": {},
     "output_type": "execute_result"
    }
   ],
   "source": [
    "df_submissions.filter(pl.col(\"name\").eq(\"t3_2ubiys\"))"
   ]
  },
  {
   "cell_type": "code",
   "execution_count": null,
   "metadata": {},
   "outputs": [],
   "source": [
    "CHAR_PER_TOKEN = 4\n",
    "\n",
    "with_tokens = df.with_columns(\n",
    "    token_count_approx=pl.col(\"body\").str.len_chars() / CHAR_PER_TOKEN\n",
    ")\n",
    "\n",
    "with_tokens.collect().write_ndjson(\"../data/reddit/comments/RC_2015-01_parsed.ndjson\")"
   ]
  }
 ],
 "metadata": {
  "kernelspec": {
   "display_name": ".venv",
   "language": "python",
   "name": "python3"
  },
  "language_info": {
   "codemirror_mode": {
    "name": "ipython",
    "version": 3
   },
   "file_extension": ".py",
   "mimetype": "text/x-python",
   "name": "python",
   "nbconvert_exporter": "python",
   "pygments_lexer": "ipython3",
   "version": "3.13.2"
  }
 },
 "nbformat": 4,
 "nbformat_minor": 2
}
