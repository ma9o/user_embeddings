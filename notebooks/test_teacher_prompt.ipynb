{
 "cells": [
  {
   "cell_type": "code",
   "execution_count": 5,
   "metadata": {},
   "outputs": [
    {
     "name": "stdout",
     "output_type": "stream",
     "text": [
      "The autoreload extension is already loaded. To reload it, use:\n",
      "  %reload_ext autoreload\n"
     ]
    }
   ],
   "source": [
    "%load_ext autoreload\n",
    "%autoreload 2"
   ]
  },
  {
   "cell_type": "code",
   "execution_count": 9,
   "metadata": {},
   "outputs": [],
   "source": [
    "import polars as pl\n",
    "\n",
    "df = pl.read_csv(\"../data/test_results/test_output_GoldenChrysus.csv\")"
   ]
  },
  {
   "cell_type": "code",
   "execution_count": 10,
   "metadata": {},
   "outputs": [
    {
     "data": {
      "text/html": [
       "<div><style>\n",
       ".dataframe > thead > tr,\n",
       ".dataframe > tbody > tr {\n",
       "  text-align: right;\n",
       "  white-space: pre-wrap;\n",
       "}\n",
       "</style>\n",
       "<small>shape: (5, 3)</small><table border=\"1\" class=\"dataframe\"><thead><tr><th>submission_id</th><th>formatted_context</th><th>user_comment_ids</th></tr><tr><td>str</td><td>str</td><td>str</td></tr></thead><tbody><tr><td>&quot;3gh4mi&quot;</td><td>&quot;subreddit: stocks\n",
       "title: Earli…</td><td>&quot;[&#x27;ctyc5jf&#x27;, &#x27;ctydlmd&#x27;]&quot;</td></tr><tr><td>&quot;3gkkf4&quot;</td><td>&quot;subreddit: gifs\n",
       "title: How to …</td><td>&quot;[&#x27;ctz8yu8&#x27;, &#x27;ctz9bab&#x27;, &#x27;ctz9fc…</td></tr><tr><td>&quot;3grdo6&quot;</td><td>&quot;subreddit: stocks\n",
       "title: Do yo…</td><td>&quot;[&#x27;cu0r74h&#x27;, &#x27;cu0z7lg&#x27;]&quot;</td></tr><tr><td>&quot;3i5zoq&quot;</td><td>&quot;subreddit: stocks\n",
       "title: Is th…</td><td>&quot;[&#x27;cudlv3i&#x27;, &#x27;cudm4gg&#x27;, &#x27;cudmfz…</td></tr><tr><td>&quot;3gish0&quot;</td><td>&quot;subreddit: tampa\n",
       "title: Uber?!…</td><td>&quot;[&#x27;ctyu0lk&#x27;]&quot;</td></tr></tbody></table></div>"
      ],
      "text/plain": [
       "shape: (5, 3)\n",
       "┌───────────────┬───────────────────┬─────────────────────────────────┐\n",
       "│ submission_id ┆ formatted_context ┆ user_comment_ids                │\n",
       "│ ---           ┆ ---               ┆ ---                             │\n",
       "│ str           ┆ str               ┆ str                             │\n",
       "╞═══════════════╪═══════════════════╪═════════════════════════════════╡\n",
       "│ 3gh4mi        ┆ subreddit: stocks ┆ ['ctyc5jf', 'ctydlmd']          │\n",
       "│               ┆ title: Earli…     ┆                                 │\n",
       "│ 3gkkf4        ┆ subreddit: gifs   ┆ ['ctz8yu8', 'ctz9bab', 'ctz9fc… │\n",
       "│               ┆ title: How to …   ┆                                 │\n",
       "│ 3grdo6        ┆ subreddit: stocks ┆ ['cu0r74h', 'cu0z7lg']          │\n",
       "│               ┆ title: Do yo…     ┆                                 │\n",
       "│ 3i5zoq        ┆ subreddit: stocks ┆ ['cudlv3i', 'cudm4gg', 'cudmfz… │\n",
       "│               ┆ title: Is th…     ┆                                 │\n",
       "│ 3gish0        ┆ subreddit: tampa  ┆ ['ctyu0lk']                     │\n",
       "│               ┆ title: Uber?!…    ┆                                 │\n",
       "└───────────────┴───────────────────┴─────────────────────────────────┘"
      ]
     },
     "execution_count": 10,
     "metadata": {},
     "output_type": "execute_result"
    }
   ],
   "source": [
    "df.head()"
   ]
  },
  {
   "cell_type": "code",
   "execution_count": 14,
   "metadata": {},
   "outputs": [],
   "source": [
    "user_name = \"GoldenChrysus\"\n",
    "content = df[3].get_column(\"formatted_context\").item()\n"
   ]
  },
  {
   "cell_type": "code",
   "execution_count": 28,
   "metadata": {},
   "outputs": [
    {
     "name": "stderr",
     "output_type": "stream",
     "text": [
      "<unknown>:1: SyntaxWarning: invalid escape sequence '\\ '\n",
      "<unknown>:1: SyntaxWarning: invalid escape sequence '\\ '\n"
     ]
    },
    {
     "data": {
      "text/plain": [
       "'\\nYou are an Expert Interaction Analyzer and Label Synthesizer. Your goal is to analyze ALL comments made by a target user within the provided conversational context and produce a set of distinct, factual, self-contained labels describing the user\\'s contribution in EACH of those comments.\\n\\nInput:\\n1. target_user_name: The user whose comments are being analyzed.\\n2. user_context: A YAML structure representing the conversation thread.\\n\\nCore Task: For EACH comment by the target_user_name within the user_context:\\n    A. Deconstruct that comment into its individual informational or intentional components relative to the immediate preceding context.\\n    B. Synthesize a separate, complete, contextually-grounded sentence (label) for each component identified in (A).\\n\\nProcess to Follow:\\n\\n1.  Identify Target Comments: Locate all comments authored by GoldenChrysus within the user_context YAML structure.\\n2.  Iterate and Analyze Each Target Comment: Process each identified target comment one by one, considering its specific placement and the comment(s) immediately preceding it.\\n    *   Context Analysis: For the current target comment being analyzed, understand the specific points, questions, or situation presented in the comment(s) immediately preceding it.\\n    *   Target Comment Deconstruction: Identify the distinct assertions, questions, reactions, intentions, or information units expressed within *this specific comment\\'s* body.\\n    *   Label Synthesis (For EACH deconstructed component of the current comment):\\n        *   CRITICAL Rule #1: Ensure Self-Containment: Each label MUST be fully understandable independently. It must contain all necessary context within itself. Do NOT use pronouns or references that depend on other labels. REPEAT CONTEXT verbatim if necessary for clarity and independence (e.g., start multiple labels with \"Responding to the claim that X...\" if they address different facets of that same claim).\\n        *   Contextual Framing: Begin the sentence by establishing the necessary context from the preceding interaction (e.g., \"Regarding the proposal...\", \"Responding to the point about Y...\", \"In the context of Z...\").\\n        *   Identify Contribution: State clearly what the USER did or expressed *in this specific part of this comment*. Use \"USER\" as the subject. Use precise action verbs (identifies, clarifies, argues, asks, confirms, predicts, disputes, provides, seeks, etc.). Avoid \"says,\" \"states.\"\\n        *   Incorporate Substance: Include the specific details/content of the user\\'s contribution from this part of the comment, linking it to the context.\\n        *   Appropriate Granularity: Combine minor details supporting one point into one label. Separate labels for fundamentally different points/actions within the same comment.\\n\\nChain of Thought Output (Mandatory): Before the final JSON output, you MUST provide your reasoning. \\n\\nFinal JSON Output: After the chain_of_thought block, provide the final JSON array containing all the synthesized string labels aggregated from all processed comments.\\n\\nExample 1:\\n\\ntitle: Took a break from the grinder and hand rolled some packaging.\\nsubmission_body: \\'[Link Post]\\'\\nsubreddit: Bladesmith\\nreplies:\\n- author: paulrckw\\n  body: I\\'d like to say this was easy but I\\'d be lying. This took far too many attempts\\n    to get it to this point and I\\'m still not 100% happy with them but they\\'ll do\\n    the job. I\\'m a little embarrassed to say that I jury rigged a jig to do this properly\\n    after I ruined the fifth can trying to freehand it.\\n  replies:\\n  - author: largos\\n    body: Nice looking labels - where in Portland are you folks located?\\n    replies:\\n    - author: paulrckw\\n      body: \"\"Our main location is downtown and our workshop space is in beaverton—but        \\\\ moving to the eastside soonish—we don\\'t have any retail space though. We        \\\\ do mostly direct sales (either we contact a business or they get referred        \\\\ to us). \\n\\nWe are in the process of negotiating with some retailers so        \\\\ you should start seeing our knives in the wild soon.\"\"\\n      replies:\\n      - author: T3hSav\\n        body: What\\'s the address? I live downtown and I want to look in person!\\n        replies: []\\n\\nInput target_user_name: T3hSav\\nCorrect Output Labels:\\n[\\n    \"USER resides in Downtown Portland.\",\\n    \"Responding to details about a Portland-based knife business, USER requires its address for physical evaluation of its products despite the context indicating direct sales/referrals and lack of current retail space.\",\\n]\\n\\nExample 2:\\n\\ntitle: All the boards of 4chan band together and play a massive game of civilization. How does it go?\\nsubreddit: AskReddit\\nsubmission_body: \\'\\'\\nreplies:\\n- author: D-Evolve\\n  body: All of them trying to play as hitler. At once.\\n  replies:\\n  - author: bwburke94\\n    body: And the one board who doesn\\'t use the Hitler mod gets glitched out of the\\n      game.\\n    replies: []\\n- author: bwburke94\\n  body: /mlp/ plays like it\\'s Civ3 where there\\'s no research carryover and lots of\\n    unit stacking\\n  replies: []\\n\\nInput target_user_name: bwburke94\\nCorrect Output Labels:\\n[\\n    \"In a hypothetical Civilization game played between all 4chan boards where participants use an hypothetical Hitler mod, USER imagines the outcome for non-mod-using boards involves ejection from the game via a glitch.\",\\n    \"In a hypothetical Civilization game played between all 4chan boards, USER identifies one specific participant as the /mlp/ board.\",\\n    \"In a hypothetical Civilization game played between all 4chan boards, USER characterizes the /mlp/ board\\'s predicted playstyle as an emulation of Civilization 3 mechanics, specifically including the lack of research carryover between technologies and heavy reliance on unit stacking.\",\\n]\\n\\n---\\n\\nBEGIN TASK:\\n\\nInput target_user_name: GoldenChrysus\\nInput user_context:\\nsubreddit: stocks\\ntitle: Is the Bernie Sanders tax on High Frequency Trades a good idea to pay for Public\\n  College Tuition?\\nsubmission_body: Bernie Sanders issued a bill that will pay the tuition of students\\n  at Public Universities by taxing the High Frequency Trades that are rapidly made\\n  by computers every day. I am not educated on the issue but I have heard that HFC\\n  destabilize the market and its just another way for the rich to get richer. Im all\\n  for spreading out the wealth of the uber-rich to the poor but what do you guys think?\\nreplies:\\n- author: GoldenChrysus\\n  body: \\'It\\'\\'s not exclusive to HFT. It\\'\\'s a tax on every $100 of sales trades anyone\\n    makes.\\n\\n\\n    Edit: After reading through the site (which is a bit vague, but provides more\\n    info than the even more vague press release), it seems it may be limited to larger\\n    firms (naturally :|): http://www.robinhoodtax.org/how-it-works\\n\\n\\n    But still not just HFT.\\n\\n\\n    No information about specifically whom it targets beyond \"Wall Street firms\":\\n    http://www.robinhoodtax.org/how-it-works/everything-you-need-to-know\\n\\n\\n    But I know my firm certainly couldn\\'\\'t afford the \"tiny tax\" that is \"not too\\n    much to ask.\" When you tax transactions regardless of profit or loss, my entire\\n    firm\\'\\'s daily profit would be hypothetically eliminated simply by a tax.\\n\\n\\n    But anyway, it depends on who it would eventually be applied to (since there are\\n    multiple proposals). Also it *can* affect regular investors, but is says the tax\\n    is \"refunded.\"\\'\\n  replies:\\n  - author: fanpple\\n    body: \\'uhhhhhhhhhhhhhhhhhhhhhhh, that would make me against it (maybe). Taxing\\n      profits is one thing, but taxing losses is not something I can see myself supporting.\\n      Are you aware of a minimum trade size for the tax?\\n\\n\\n      edit: I looked into it more. According to [this](http://www.bloomberg.com/politics/articles/2015-05-18/bernie-sanders-wants-to-tax-stock-trades-to-pay-for-free-college)\\n      article, the tax is $0.50 per every $100 traded. Im an 18 year old kid who is\\n      about to start college, so I am not sure how I feel about this. I would need\\n      to see numbers for how it will effect Retirement Accounts, Hedge Funds, Wall\\n      Street....\\n\\n\\n      I think that I would prefer the free tuition to come from a tax on marijuana\\n      or something \\'\\n    replies:\\n    - author: GoldenChrysus\\n      body: \\'Read my edit.\\n\\n\\n        But yes seriously lol, legalize cannabis and tax it across the nation, and\\n        the government would have the deficit obliterated in moments and free tuition\\n        for generations to come lmao.\\'\\n      replies:\\n      - author: fanpple\\n        body: \"Well if I go to work for a larger firm then :( \\\\n\\\\nIt makes me think\\\\\\n          \\\\ of the regular sales tax. It started out small but then it grew, if this\\\\\\n          \\\\ .5% happens, how long until it grows to 1%? 2%?\\\\n\\\\nYour final paragraph\\\\\\n          \\\\ is worrisome. If Bernie\\'s Bill gets traction, it may be a good time for\\\\\\n          \\\\ money to be in politics. I also wonder if it would hurt my ability to\\\\\\n          \\\\ find a job post graduation if wall streets profits shrink (though Im REALLY\\\\\\n          \\\\ close to getting a part time job/internship at a PE Firm - fingers crossed)\\\\n\\\\\\n          \\\\nEdit: Warren Buffet and Bill Gates are for it (according to the Robin\\\\\\n          \\\\ Hood Website). Im confused \"\\n        replies:\\n        - author: GoldenChrysus\\n          body: \\'I think any tax would be a ways away since things like that have\\n            been proposed for years. But every financial tax plan targets different\\n            investors or institutions, and handles exemptions differently (like charging\\n            retail investors the tax, but later refunding it). Mostly it would come\\n            down what the criteria is for the tax. i.e. is it only for firms over\\n            $xxx under management, only for trades under # years, etc? Because those\\n            kinds of criteria could end up affecting \"normal people.\"\\'\\n          replies:\\n          - author: fanpple\\n            body: understandable. If the Bill was introduced to congress, I would\\n              think those numbers would have to be somewhere? (unless they decide\\n              those numbers afterward - scary)\\n            replies:\\n            - author: GoldenChrysus\\n              body: \\'I would imagine so. I\\'\\'ve done a little digging around just for\\n                funsies on Sanders\\'\\' plan, but can\\'\\'t find any information anywhere\\n                about how the payers are determined. They make sure, however, to always\\n                mention \"other speculators\" aside from banks and institutions, which\\n                to me seems to leave room for taxing anyone who doesn\\'\\'t want to invest\\n                long-term in the market.\\n\\n\\n                Plus I don\\'\\'t think the average person is qualified enough to know\\n                the impact of such a tax, and it may even be self-deprecating to themselves.\\n                For example, my firm is technically an SEC-recognized firm, making\\n                it a \"big bad financial company\" as far as politics go (though obviously\\n                not an investment bank or anything like that, but still falls under\\n                \"other speculators\"). Clients are all average people, retirees, young\\n                professionals, etc. and we certainly never hold positions for a year,\\n                but still manage to provide returns to them. If subject to a tax of\\n                an absurd 0.5%, their accounts would be drained penniless in no time.\\'\\n              replies: []\\n      - author: fanpple\\n        body: That website claims that Warren Buffet, Bill Gates and more support\\n          the Robin Hood Tax. Yet I can\\'t find a reliable source that quotes either\\n          of them on their support. I know that Warren supports a higher tax rate\\n          for himself, and I would assume Bill is for the same thing - if this is\\n          their source, then they are reaching. Even the wikipedia page for the Robin\\n          Hood tax only says \"According to a press release by the lobbying organisation,\\n          support has been forthcoming from the financial sector by prominent figures\\n          including George Soros, Warren Buffett and Lord Turner, chairman of the\\n          UK\\'s Financial Services Authority.\"\\n        replies:\\n        - author: GoldenChrysus\\n          body: Honestly it\\'s super vague but anything that says \"take from Wall Street\\n            and give to Main Street\" gets battle cries among 99% of Americans. But\\n            regardless, anything like this is a ways off and I doubt it could be passed\\n            and implemented before 2020, so won\\'t know who it applies to until a bill\\n            gains real momentum.\\n          replies:\\n          - author: fanpple\\n            body: \"Yea, Im against it until more details come off. Im open to having\\\\\\n              \\\\ a change in my opinion \\\\n\\\\nhttp://www.theguardian.com/business/2011/nov/03/gates-urges-g20-to-introduce-tobin-tax\\\\\\n              \\\\ Gates is in support of it \"\\n            replies:\\n            - author: GoldenChrysus\\n              body: Yeah but wasn\\'t the EU tax 0.05% rather than 0.5% ($0.50 on every\\n                $100 equals 0.5% overall)? *Plus* it affected average investors, and\\n                you know Americans aren\\'t gonna have any shit that requires them to\\n                contribute to society. (It\\'s funny to note that the entire goal of\\n                this plan is to fund education to better society, but society itself\\n                doesn\\'t want to help pay for it.) Anyway, still a pretty expensive\\n                tax, but way more affordable.\\n              replies: []\\n  - author: billy-bumbler\\n    body: \\'your firm would adapt, if it really did \\'\\'eliminate\\'\\' your entire firm\\'\\'s\\n      daily profit..  sounds like outrageous claims.\\n\\n      \\'\\n    replies:\\n    - author: GoldenChrysus\\n      body: The tax is on the sale amount of trades regardless of whether you make\\n        profit, and with margin the sale amounts of trades can be significantly higher\\n        than profit. On Sanders\\' tax plan, it could be up to $10K per day in taxes\\n        for us. Maybe more on certain days of the week, and that\\'s *regardless* of\\n        whether or not we\\'re having a winning day or losing day. So basically a $10K\\n        daily fee for the privilege of being able to continue my business. However,\\n        thanks for your insight. :)\\n      replies: []\\n- author: JackleBee\\n  body: \\'Generally speaking, I\\'\\'m opposed to tying any two unrelated things to each\\n    other. Trading has NOTHING to do with college education costs; creating a correlation\\n    between the two would be silly. Markets and economics are always changing.\\n\\n\\n    If you want to tax trading, that\\'\\'s one thing. But put the revenue into the general\\n    fund to allow for some flexibility for lawmakers.\\'\\n  replies:\\n  - author: GoldenChrysus\\n    body: When you have a society that doesn\\'t feel they need to contribute to the\\n      betterment of the country because there are people who have more money than\\n      them, the lawmakers have to find a different source of revenue. For example,\\n      everyone is vastly opposed to an increase in gas tax to support our roads and\\n      infrastructure (which would cost a whopping, wait for it...$150 or so for the\\n      average family *per year*), which is sort of important and integral to *everyone\\'s*\\n      daily life. But since there are \"rich people\" in the country, no one feels responsible\\n      for paying that gas tax, so instead of raising revenue from the people who *use*\\n      the roads, they raised it from overseas tax loophole closures, which has absolutely\\n      no correlation to domestic infrastructure.\\n    replies: []\\n\\n\\n'"
      ]
     },
     "execution_count": 28,
     "metadata": {},
     "output_type": "execute_result"
    }
   ],
   "source": [
    "from user_embeddings.utils.teacher_prompt import get_teacher_prompt\n",
    "\n",
    "prompt = get_teacher_prompt(user_name, content)\n",
    "prompt"
   ]
  },
  {
   "cell_type": "code",
   "execution_count": null,
   "metadata": {},
   "outputs": [],
   "source": [
    "from user_embeddings.utils.get_text_completion import get_text_completion\n",
    "from user_embeddings.utils.get_text_completion import get_openrouter_client\n",
    "\n",
    "client = get_openrouter_client()"
   ]
  },
  {
   "cell_type": "code",
   "execution_count": 29,
   "metadata": {},
   "outputs": [
    {
     "name": "stdout",
     "output_type": "stream",
     "text": [
      "## Chain of Thought:\n",
      "\n",
      "Here's my reasoning for generating the labels for GoldenChrysus's comments. I've broken down the process for each comment, identifying key context, deconstructing the user's contributions, and then synthesizing the labels adhering to the outlined rules (self-containment, contextual framing, precise action verbs, incorporating substance, and appropriate granularity).\n",
      "\n",
      "**Comment 1:**\n",
      "\n",
      "*   **Context:** Initial post proposing a Bernie Sanders tax on HFT to fund public college tuition.\n",
      "*   **Deconstruction:**\n",
      "    *   Clarification: States the tax isn't limited to HFT, applying to all sales trades.\n",
      "    *   Further Clarification: Provides links to sources describing the tax, noting their vagueness and potential limitations to larger firms.\n",
      "    *   Personal Impact: Expresses concern about the tax's impact on their firm, claiming it could eliminate daily profits.\n",
      "    *   Conditional Qualification: Comments that the effect is dependent on the tax's application target.\n",
      "    *   Mitigation Detail: Notes that the tax is refundable.\n",
      "*   **Labels:**\n",
      "\n",
      "    1.  \"Responding to the proposal of a Bernie Sanders tax on High-Frequency Trading (HFT) to fund public college tuition, USER clarifies that the proposed tax applies to all sales trades, not exclusively HFT.\"\n",
      "    2.  \"Regarding the proposed tax, USER provides links to source materials detailing the tax plan but notes their vagueness and indicates the tax may be limited to larger financial firms.\"\n",
      "    3.  \"USER expresses concern that the proposed tax, applied to every transaction regardless of profit, could eliminate their firm’s entire daily profit.\"\n",
      "    4.  \"USER qualifies their concern about the tax’s impact by stating the actual effect depends on the specific details of its application.\"\n",
      "    5. \"USER notes that the proposed tax plan specifies a refund may be provided.\"\n",
      "\n",
      "**Comment 2:**\n",
      "\n",
      "*   **Context:** Fanpple expresses skepticism about the tax on losses, prompting further discussion.\n",
      "*   **Deconstruction:**\n",
      "    *   Acknowledgement: Acknowledges a previous edit for context.\n",
      "    *   Advocacy: Suggests legalizing cannabis as an alternative tax source.\n",
      "*   **Labels:**\n",
      "\n",
      "    1.  \"USER refers to a prior edit within the context of a discussion about the proposed tax, seeking to provide additional information.\"\n",
      "    2.  \"USER advocates for legalizing cannabis and implementing a national tax on it as an alternative funding source for public college tuition.\"\n",
      "\n",
      "**Comment 3:**\n",
      "\n",
      "*   **Context:** Fanpple expresses uncertainty about the tax’s impact and questions the reliability of cited sources.\n",
      "*   **Deconstruction:**\n",
      "    *   Discounting Sources: Dismisses Warren Buffet/Bill Gates support as vague.\n",
      "    *   Cynical View: Expresses a cynical view of public willingness to contribute to societal benefits.\n",
      "    *   Realistic Timeline: Expresses a conservative timeline for potential implementation.\n",
      "\n",
      "*   **Labels:**\n",
      "\n",
      "    1.  \"USER casts doubt on the reported support of prominent figures like Warren Buffett and Bill Gates for the tax, deeming the evidence vague.\"\n",
      "    2.  “USER expresses a cynical outlook on public willingness to contribute to societal funding through taxation.\".\n",
      "    3.  \"In the context of the proposed tax, USER predicts that its implementation is unlikely before 2020, making its precise impact currently unknown.\"\n",
      "\n",
      "**Comment 4:**\n",
      "\n",
      "*   **Context:** Fanpple shares a Guardian link supporting the idea of the tax.\n",
      "*   **Deconstruction:**\n",
      "    *   Comparison: Points out a difference between the proposed US tax (0.5%) and the EU tax (0.05%).\n",
      "    *   Social Critique: Comments on the perceived unwillingness of Americans to contribute.\n",
      "\n",
      "*   **Labels:**\n",
      "\n",
      "    1.   \"USER differentiates the proposed US tax rate of 0.5% from the EU tax rate of 0.05% on financial transactions.\"\n",
      "    2.  \"USER critiques a perceived reluctance among Americans to contribute to societal improvements through taxation.\"\n",
      "\n",
      "**Comment 5:**\n",
      "\n",
      "*   **Context:** Billy-bumbler challenges the claim that the tax would eliminate firm profits.\n",
      "*   **Deconstruction:**\n",
      "    *   Explanation: Elaborates on the reasoning for the claim, considering margin and trade volume.\n",
      "    *   Quantification: Provides a dollar amount estimate for potential daily tax liability.\n",
      "    *    Polite Rebuttal: Responds to the challenge with explanation and a polite closing.\n",
      "*   **Labels:**\n",
      "\n",
      "    1.  \"Responding to a challenge about the impact of the proposed tax on their firm’s profits, USER explains that the tax is based on the sale amount of trades regardless of profit, considering margin and trade volume.\"\n",
      "    2.  \"USER quantifies the potential daily tax liability for their firm, estimating it could be up to $10,000.\"\n",
      "    3.  \"USER defends their claim with further explanation and politely acknowledges the opposing viewpoint.\"\n",
      "\n",
      "**Comment 6:**\n",
      "\n",
      "*   **Context:** JackleBee argues against correlating unrelated things (trading and education).\n",
      "*   **Deconstruction:**\n",
      "    *   Disagreement: Expresses opposition to linking trading and college education.\n",
      "    *   Alternative Proposal: Suggests directing tax revenue to a general fund, offering flexibility.\n",
      "*   **Labels:**\n",
      "\n",
      "    1.  \"USER expresses disagreement with linking trading revenue to college education funding, arguing that they are unrelated issues.\"\n",
      "    2.  \"USER proposes allocating tax revenue to a general fund to provide lawmakers with flexibility in budgeting.\"\n",
      "\n",
      "**Comment 7:**\n",
      "\n",
      "*   **Context:** JackleBee states a belief that society does not feel it is responsible for contributing to the betterment of society.\n",
      "*   **Deconstruction:**\n",
      "    *   Social Critique: Agrees with the previous sentiment about societal responsibility and provides a concrete example.\n",
      "\n",
      "*   **Labels:**\n",
      "\n",
      "    1.   \"USER agrees with the position that society does not feel responsible for contributing to communal betterment, and supports this claim with an example related gas taxes & infrastructure funding.\"\n",
      "\n",
      "---\n",
      "\n",
      "## Final JSON Output:\n",
      "\n",
      "```json\n",
      "[\n",
      "    \"Responding to the proposal of a Bernie Sanders tax on High-Frequency Trading (HFT) to fund public college tuition, USER clarifies that the proposed tax applies to all sales trades, not exclusively HFT.\",\n",
      "    \"Regarding the proposed tax, USER provides links to source materials detailing the tax plan but notes their vagueness and indicates the tax may be limited to larger financial firms.\",\n",
      "    \"USER expresses concern that the proposed tax, applied to every transaction regardless of profit, could eliminate their firm’s entire daily profit.\",\n",
      "    \"USER qualifies their concern about the tax’s impact by stating the actual effect depends on the specific details of its application.\",\n",
      "    \"USER notes that the proposed tax plan specifies a refund may be provided.\",\n",
      "    \"USER refers to a prior edit within the context of a discussion about the proposed tax, seeking to provide additional information.\",\n",
      "    \"USER advocates for legalizing cannabis and implementing a national tax on it as an alternative funding source for public college tuition.\",\n",
      "    \"USER casts doubt on the reported support of prominent figures like Warren Buffett and Bill Gates for the tax, deeming the evidence vague.\",\n",
      "    \"USER expresses a cynical outlook on public willingness to contribute to societal funding through taxation.\",\n",
      "    \"In the context of the proposed tax, USER predicts that its implementation is unlikely before 2020, making its precise impact currently unknown.\",\n",
      "    \"USER differentiates the proposed US tax rate of 0.5% from the EU tax rate of 0.05% on financial transactions.\",\n",
      "    \"USER critiques a perceived reluctance among Americans to contribute to societal improvements through taxation.\",\n",
      "    \"Responding to a challenge about the impact of the proposed tax on their firm’s profits, USER explains that the tax is based on the sale amount of trades regardless of profit, considering margin and trade volume.\",\n",
      "    \"USER quantifies the potential daily tax liability for their firm, estimating it could be up to $10,000.\",\n",
      "    \"USER defends their claim with further explanation and politely acknowledges the opposing viewpoint.\",\n",
      "    \"USER expresses disagreement with linking trading revenue to college education funding, arguing that they are unrelated issues.\",\n",
      "    \"USER proposes allocating tax revenue to a general fund to provide lawmakers with flexibility in budgeting.\",\n",
      "    \"USER agrees with the position that society does not feel responsible for contributing to communal betterment, and supports this claim with an example related gas taxes & infrastructure funding.\"\n",
      "]\n",
      "```\n"
     ]
    }
   ],
   "source": [
    "\n",
    "result = get_text_completion(client, \"google/gemma-3-27b-it\", prompt)\n",
    "print(result)"
   ]
  }
 ],
 "metadata": {
  "kernelspec": {
   "display_name": ".venv",
   "language": "python",
   "name": "python3"
  },
  "language_info": {
   "codemirror_mode": {
    "name": "ipython",
    "version": 3
   },
   "file_extension": ".py",
   "mimetype": "text/x-python",
   "name": "python",
   "nbconvert_exporter": "python",
   "pygments_lexer": "ipython3",
   "version": "3.13.2"
  }
 },
 "nbformat": 4,
 "nbformat_minor": 2
}
