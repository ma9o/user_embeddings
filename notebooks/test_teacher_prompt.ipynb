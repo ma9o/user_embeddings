{
 "cells": [
  {
   "cell_type": "code",
   "execution_count": 30,
   "metadata": {},
   "outputs": [
    {
     "name": "stdout",
     "output_type": "stream",
     "text": [
      "The autoreload extension is already loaded. To reload it, use:\n",
      "  %reload_ext autoreload\n"
     ]
    },
    {
     "name": "stderr",
     "output_type": "stream",
     "text": [
      "<unknown>:1: SyntaxWarning: invalid escape sequence '\\ '\n"
     ]
    }
   ],
   "source": [
    "%load_ext autoreload\n",
    "%autoreload 2"
   ]
  },
  {
   "cell_type": "code",
   "execution_count": 31,
   "metadata": {},
   "outputs": [],
   "source": [
    "import polars as pl\n",
    "\n",
    "df = pl.read_csv(\"../data/test_results/test_output_GoldenChrysus.csv\")"
   ]
  },
  {
   "cell_type": "code",
   "execution_count": 32,
   "metadata": {},
   "outputs": [
    {
     "data": {
      "text/html": [
       "<div><style>\n",
       ".dataframe > thead > tr,\n",
       ".dataframe > tbody > tr {\n",
       "  text-align: right;\n",
       "  white-space: pre-wrap;\n",
       "}\n",
       "</style>\n",
       "<small>shape: (5, 3)</small><table border=\"1\" class=\"dataframe\"><thead><tr><th>submission_id</th><th>formatted_context</th><th>user_comment_ids</th></tr><tr><td>str</td><td>str</td><td>str</td></tr></thead><tbody><tr><td>&quot;3gjpz2&quot;</td><td>&quot;[\n",
       "&nbsp;&nbsp;{\n",
       "&nbsp;&nbsp;&nbsp;&nbsp;&quot;user&quot;: &quot;SUBJECT&quot;,\n",
       " …</td><td>&quot;[&#x27;ctyrgpd&#x27;]&quot;</td></tr><tr><td>&quot;3gpjwq&quot;</td><td>&quot;[\n",
       "&nbsp;&nbsp;{\n",
       "&nbsp;&nbsp;&nbsp;&nbsp;&quot;user&quot;: &quot;ari_s_p_e_c…</td><td>&quot;[&#x27;cu11t9e&#x27;]&quot;</td></tr><tr><td>&quot;3h7qop&quot;</td><td>&quot;[\n",
       "&nbsp;&nbsp;{\n",
       "&nbsp;&nbsp;&nbsp;&nbsp;&quot;user&quot;: &quot;[deleted]&quot;,…</td><td>&quot;[&#x27;cu5o1v4&#x27;]&quot;</td></tr><tr><td>&quot;3hnj6j&quot;</td><td>&quot;[\n",
       "&nbsp;&nbsp;{\n",
       "&nbsp;&nbsp;&nbsp;&nbsp;&quot;user&quot;: &quot;zer0w0rries…</td><td>&quot;[&#x27;cu98ijr&#x27;, &#x27;cu98jbq&#x27;]&quot;</td></tr><tr><td>&quot;3hqgs5&quot;</td><td>&quot;[\n",
       "&nbsp;&nbsp;{\n",
       "&nbsp;&nbsp;&nbsp;&nbsp;&quot;user&quot;: &quot;tropicalrec…</td><td>&quot;[&#x27;cu9nxu1&#x27;]&quot;</td></tr></tbody></table></div>"
      ],
      "text/plain": [
       "shape: (5, 3)\n",
       "┌───────────────┬───────────────────────────┬────────────────────────┐\n",
       "│ submission_id ┆ formatted_context         ┆ user_comment_ids       │\n",
       "│ ---           ┆ ---                       ┆ ---                    │\n",
       "│ str           ┆ str                       ┆ str                    │\n",
       "╞═══════════════╪═══════════════════════════╪════════════════════════╡\n",
       "│ 3gjpz2        ┆ [                         ┆ ['ctyrgpd']            │\n",
       "│               ┆   {                       ┆                        │\n",
       "│               ┆     \"user\": \"SUBJECT\",    ┆                        │\n",
       "│               ┆  …                        ┆                        │\n",
       "│ 3gpjwq        ┆ [                         ┆ ['cu11t9e']            │\n",
       "│               ┆   {                       ┆                        │\n",
       "│               ┆     \"user\": \"ari_s_p_e_c… ┆                        │\n",
       "│ 3h7qop        ┆ [                         ┆ ['cu5o1v4']            │\n",
       "│               ┆   {                       ┆                        │\n",
       "│               ┆     \"user\": \"[deleted]\",… ┆                        │\n",
       "│ 3hnj6j        ┆ [                         ┆ ['cu98ijr', 'cu98jbq'] │\n",
       "│               ┆   {                       ┆                        │\n",
       "│               ┆     \"user\": \"zer0w0rries… ┆                        │\n",
       "│ 3hqgs5        ┆ [                         ┆ ['cu9nxu1']            │\n",
       "│               ┆   {                       ┆                        │\n",
       "│               ┆     \"user\": \"tropicalrec… ┆                        │\n",
       "└───────────────┴───────────────────────────┴────────────────────────┘"
      ]
     },
     "execution_count": 32,
     "metadata": {},
     "output_type": "execute_result"
    }
   ],
   "source": [
    "df.head()"
   ]
  },
  {
   "cell_type": "code",
   "execution_count": 33,
   "metadata": {},
   "outputs": [],
   "source": [
    "content = df[3].get_column(\"formatted_context\").item()\n"
   ]
  },
  {
   "cell_type": "code",
   "execution_count": 37,
   "metadata": {},
   "outputs": [
    {
     "data": {
      "text/plain": [
       "'\\nYou are an Expert Interaction Analyzer and Structure Synthesizer. Your goal is to analyze a conversational context, focusing on the contributions of the participant designated as \\'SUBJECT\\', and represent the flow of interaction as a nested JSON structure composed of natural language summaries and actions.\\n\\nInput:\\nA JSON structure representing the conversation thread (list of message objects), where the target participant is identified by the username \"SUBJECT\".\\n\\nOutput Format Specification:\\nGenerate a single JSON object with the following structure:\\n{\\n  \"context\": \"Natural language string summarizing the initial context before the SUBJECT\\'s first action relevant to this structure.\",\\n  \"actions\": [\\n    // This list contains a mix of strings and nested objects, ordered chronologically.\\n    \"String representing a single, atomic action/contribution by the SUBJECT.\",\\n    // ... more action strings if the SUBJECT made multiple points in the same comment ...\\n    {\\n      \"context\": \"Natural language string summarizing the accumulated context from non-SUBJECT participants between the previous SUBJECT action and the next one at this level.\",\\n      \"actions\": [\\n        // Recursive structure: contains more action strings and potentially further nested context objects.\\n        \"Another SUBJECT action string.\",\\n        {\\n            \"context\": \"...\",\\n            \"actions\": [...]\\n        }\\n      ]\\n    },\\n    \"Yet another SUBJECT action string (if context didn\\'t change).\"\\n  ]\\n}\\n\\nKey Principles for Output Generation:\\n\\n1.  **Focus on SUBJECT:** The structure revolves around the participant identified as \"SUBJECT\" in the input `user_context`. Their messages are broken down into atomic action strings.\\n2.  **Context Summarization:** Messages from ALL OTHER participants are summarized into concise, natural language `context` strings. A `context` field captures the essence of conversational turns by non-SUBJECT participants that occur *between* the SUBJECT\\'s actions *at a given nesting level*. The style should be similar to the action strings.\\n3.  **Structure Follows Flow:** The nesting reflects the conversation\\'s reply structure *only when* non-SUBJECT participant messages (context) interleave with the SUBJECT\\'s messages. If the SUBJECT replies multiple times without intervening context *at that level*, their action strings appear sequentially in the same `actions` list.\\n4.  **Action Strings:** Each action string describing the SUBJECT\\'s contribution should be:\\n    *   **Atomic:** Represent a single logical point, assertion, question, or reaction from the SUBJECT\\'s message.\\n    *   **Factual & Concise:** Describe what the SUBJECT did or expressed impersonally. Use precise verbs (identifies, clarifies, argues, asks, confirms, provides, disputes, etc.). Avoid vague terms like \"says.\"\\n    *   **Self-Contained (within message):** Capture the essence of the SUBJECT\\'s point *from that specific message*. Does NOT need to repeat context from parent `context` fields.\\n5.  **Chronological Order:** All elements within any `actions` list MUST be ordered according to the original timestamps of the messages they represent.\\n6.  **Consistent NL Style:** Both `context` summaries and `action` strings should use a similar, factual, descriptive natural language style suitable for projection into a shared semantic space.\\n\\nProcessing Steps (Conceptual):\\n\\n1.  **Identify Initial Context:** Determine the content of the initial message(s) and any subsequent messages preceding the *first* message by the participant \"SUBJECT\". Summarize this into the root `context` string.\\n2.  **Process Conversation Tree:** Traverse the conversation chronologically.\\n3.  **Accumulate & Summarize Context:** As you encounter messages from non-SUBJECT participants, mentally accumulate their points. When a \"SUBJECT\" message is encountered or the branch ends, summarize the accumulated non-SUBJECT points into a `context` string if needed.\\n4.  **Handle SUBJECT Message:** When you encounter a message where the participant is \"SUBJECT\":\\n    *   If accumulated non-SUBJECT context exists for the current level, finalize its summary string and create a nested `{\"context\": ..., \"actions\": []}` object. Add this object to the current level\\'s `actions` list. The `actions` list of this *new object* becomes the current target for subsequent actions within this branch.\\n    *   Generate the atomic action string(s) for the \"SUBJECT\"\\'s current message. Append these strings to the *currently active* `actions` list.\\n    *   Recursively process the replies to the \"SUBJECT\"\\'s message, adding results to the *currently active* `actions` list.\\n5.  **Handle Non-SUBJECT Message Replies:** When processing a non-SUBJECT participant\\'s message, also recursively process its replies, adding results to the *same parent actions list* you were using before processing the non-SUBJECT participant.\\n\\n---\\nEXAMPLE:\\n\\nInput:\\n```json\\n[\\n  {\\n    \"user\": \"fqn\",\\n    \"time\": \"26-08-2015 13:57\",\\n    \"content\": \"Title: Did I miss the dip now? Or is this the \"dead cat bounce\"?\\nBody: A transfer just cleared, so now I have some money ready to buy some stocks. Should I hold off for a few weeks or months to see what\\'s going to happen? Or is now a good time to buy?\\n\\n\",\\n    \"replies\": [\\n      {\\n        \"user\": \"fqn\",\\n        \"time\": \"26-08-2015 13:57\",\\n        \"content\": \"I might be new to this, but this really looks like a dead cat bounce. Maybe I\\'ll check back in a few weeks. My money is probably a lot safer as a cash right now.\",\\n        \"replies\": [\\n          {\\n            \"user\": \"fqn\",\\n            \"time\": \"26-08-2015 14:02\",\\n            \"content\": \"But on the other hand, perhaps I could buy some stocks now, and then sell them just before they start going down again? Sounds pretty risky. But trades are all free [on the platform].\",\\n            \"replies\": [\\n              {\\n                \"user\": \"SUBJECT\",\\n                \"time\": \"26-08-2015 14:06\",\\n                \"content\": \"Trade commissions don\\'t matter if you\\'re losing money. What is your goal? Are you holding long-term (several years)? Or are you trying to make short-term profits?\",\\n                \"replies\": []\\n              }\\n            ]\\n          }\\n        ]\\n      }\\n    ]\\n  }\\n]\\n```\\n\\nCorrect JSON Output:\\n```json\\n{\\n  \"context\": \"A participant (\\'fqn\\') initiated a discussion seeking advice on timing stock purchases after a recent market dip, questioning if it\\'s a buying opportunity or a \\'dead cat bounce\\'. This participant subsequently expressed concern it might be a bounce and considered holding cash, but then weighed the possibility of short-term trading enabled by free commissions on their platform.\",\\n  \"actions\": [\\n    \"SUBJECT asserts that avoiding losses is more critical than trade commission costs.\",\\n    \"SUBJECT prompts the initiating participant (\\'fqn\\') to define their investment objective, specifically asking whether the goal is long-term holding or seeking short-term profits.\"\\n  ]\\n}\\n```\\n\\n---\\n\\nBEGIN TASK\\n\\nInput:\\n\\n[{\\'user\\': \\'zer0w0rries\\', \\'time\\': \\'19-08-2015 23:59\\', \\'content\\': \\'Title: Last night my friend asked to use a USB port to charge his cigarette, but I was using it to charge my book. The future is stupid.\\\\nSubreddit: Showerthoughts\\\\nBody: OP Edit: All credit to Dean Burnett @garwboy on Twitter. Verify your sources or look like an asshole folks. http://www.theguardian.com/science/brain-flapping/2015/aug/25/stealing-jokes-why-it-happens-theft-psychology\\\\n\\\\n\\\\n\\\\nOP Edit 2: Me and Dean have been chatting via [Twitter](https://twitter.com/garwboy/status/636179787741007873) and everything is worked out, however it turns out that reddit used my post on their [Instagram](https://instagram.com/p/6niHiRuDEs/?utm_content=buffer678d2&amp;utm_medium=social&amp;utm_source=facebook.com&amp;utm_campaign=buffer) and [Facebook](https://www.facebook.com/reddit/posts/10153576000523735) so this got way more traction than I ever intended.\\', \\'replies\\': [{\\'user\\': \\'TorinoCobra070\\', \\'time\\': \\'20-08-2015 00:08\\', \\'content\\': \\'I have a USB charger that has to be plugged into a USB port to charge so it can charge my other USB devices. \\\\n\\\\n: |\\', \\'replies\\': [{\\'user\\': \\'robes_pee_air\\', \\'time\\': \\'20-08-2015 00:14\\', \\'content\\': \\'Yo dawg.. \\', \\'replies\\': [{\\'user\\': \\'Urgullibl\\', \\'time\\': \\'20-08-2015 01:14\\', \\'content\\': \\'On an unrelated note, you really used your head to come up with that user name.\\', \\'replies\\': [{\\'user\\': \\'pitchingataint\\', \\'time\\': \\'20-08-2015 02:04\\', \\'content\\': \\'Is it supposed to sound like robe spear? What does it mean?\\', \\'replies\\': [{\\'user\\': \\'Actually_False\\', \\'time\\': \\'20-08-2015 02:07\\', \\'content\\': \\'https://en.wikipedia.org/wiki/Maximilien_Robespierre\\\\n\\\\nHe was a famous historical figure from the French Revolution.\\', \\'replies\\': [{\\'user\\': \\'pitchingataint\\', \\'time\\': \\'20-08-2015 02:33\\', \\'content\\': \\'Tight. Thank you. 👍😉\\', \\'replies\\': [{\\'user\\': \\'gusherfullofvinegar\\', \\'time\\': \\'20-08-2015 03:14\\', \\'content\\': \"People still say tight!? Cool. I\\'m not alone.\", \\'replies\\': [{\\'user\\': \\'SUBJECT\\', \\'time\\': \\'20-08-2015 06:44\\', \\'content\\': \\'Gnarly dude.\\', \\'replies\\': []}]}]}]}]}]}]}]}, {\\'user\\': \\'SUBJECT\\', \\'time\\': \\'20-08-2015 06:45\\', \\'content\\': \"Yeah but who doesn\\'t have a dozen USB ports at their disposal? \", \\'replies\\': []}]}]'"
      ]
     },
     "execution_count": 37,
     "metadata": {},
     "output_type": "execute_result"
    }
   ],
   "source": [
    "from user_embeddings.utils.teacher_prompt import get_teacher_prompt\n",
    "\n",
    "prompt = get_teacher_prompt(content)\n",
    "prompt"
   ]
  },
  {
   "cell_type": "code",
   "execution_count": null,
   "metadata": {},
   "outputs": [],
   "source": [
    "from user_embeddings.utils.get_text_completion import (\n",
    "    get_openrouter_client,\n",
    "    get_text_completion,\n",
    ")\n",
    "\n",
    "client = get_openrouter_client()"
   ]
  },
  {
   "cell_type": "code",
   "execution_count": 46,
   "metadata": {},
   "outputs": [
    {
     "data": {
      "text/plain": [
       "{'context': \"The initial post presented a 'shower thought' about charging modern devices like e-cigarettes and books via USB, which was later attributed to its original author and noted to have been syndicated by Reddit. A reply ('TorinoCobra070') remarked on theRecursive nature of some USB charging devices needing USB ports themselves. This prompted a nested series of replies: a 'Yo Dawg' reference ('robes_pee_air'), comments initiating a discussion about this user's name ('Urgullibl', 'pitchingataint'), an explanation linking it to Robespierre ('Actually_False'), an appreciative reply using the word 'tight' ('pitchingataint'), and finally a comment expressing surprise at the use of 'tight' ('gusherfullofvinegar').\",\n",
       " 'actions': [\"SUBJECT responds 'Gnarly dude.' to the user expressing surprise at the word 'tight'.\",\n",
       "  'SUBJECT questions the scarcity of USB ports, suggesting they are widely available.']}"
      ]
     },
     "execution_count": 46,
     "metadata": {},
     "output_type": "execute_result"
    }
   ],
   "source": [
    "from user_embeddings.utils.teacher_prompt import parse_teacher_prompt_output\n",
    "\n",
    "parse_teacher_prompt_output(\"\"\"\n",
    "```json\n",
    "{\n",
    "  \"context\": \"The initial post presented a 'shower thought' about charging modern devices like e-cigarettes and books via USB, which was later attributed to its original author and noted to have been syndicated by Reddit. A reply ('TorinoCobra070') remarked on theRecursive nature of some USB charging devices needing USB ports themselves. This prompted a nested series of replies: a 'Yo Dawg' reference ('robes_pee_air'), comments initiating a discussion about this user's name ('Urgullibl', 'pitchingataint'), an explanation linking it to Robespierre ('Actually_False'), an appreciative reply using the word 'tight' ('pitchingataint'), and finally a comment expressing surprise at the use of 'tight' ('gusherfullofvinegar').\",\n",
    "  \"actions\": [\n",
    "    \"SUBJECT responds 'Gnarly dude.' to the user expressing surprise at the word 'tight'.\",\n",
    "    \"SUBJECT questions the scarcity of USB ports, suggesting they are widely available.\"\n",
    "  ]\n",
    "}\n",
    "```\n",
    "\"\"\")"
   ]
  },
  {
   "cell_type": "code",
   "execution_count": 40,
   "metadata": {},
   "outputs": [
    {
     "name": "stdout",
     "output_type": "stream",
     "text": [
      "```json\n",
      "{\n",
      "  \"context\": \"A user ('zer0w0rries') shared a 'showerthought' about the absurdity of needing a USB port to charge a cigarette while simultaneously needing one to charge a book, noting the original source of the thought on Twitter and subsequent unauthorized use of the post by Reddit on Instagram and Facebook. A conversation then evolved about USB chargers, user names, and historical figures (Robespierre).\",\n",
      "  \"actions\": [\n",
      "    \"SUBJECT expresses agreement with a previous comment using the slang term 'Gnarly dude'.\",\n",
      "    \"SUBJECT rhetorically questions the scarcity of USB ports, implying that having access to them is commonplace.\"\n",
      "  ]\n",
      "}\n",
      "```\n"
     ]
    }
   ],
   "source": [
    "result = await get_text_completion(\"google/gemma-3-27b-it\", prompt)\n",
    "print(result)"
   ]
  }
 ],
 "metadata": {
  "kernelspec": {
   "display_name": ".venv",
   "language": "python",
   "name": "python3"
  },
  "language_info": {
   "codemirror_mode": {
    "name": "ipython",
    "version": 3
   },
   "file_extension": ".py",
   "mimetype": "text/x-python",
   "name": "python",
   "nbconvert_exporter": "python",
   "pygments_lexer": "ipython3",
   "version": "3.13.2"
  }
 },
 "nbformat": 4,
 "nbformat_minor": 2
}
