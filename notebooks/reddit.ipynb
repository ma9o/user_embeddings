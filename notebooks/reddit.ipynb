{
 "cells": [
  {
   "cell_type": "code",
   "execution_count": 31,
   "metadata": {},
   "outputs": [],
   "source": [
    "import polars as pl\n",
    "df = pl.scan_ndjson(\"data/reddit/comments/RC_2015-01\", infer_schema_length=10000)\n",
    "\n",
    "# parsing \n",
    "df = df.with_columns(\n",
    "    pl.col(\"created_utc\").str.to_integer().mul(1000).cast(pl.Datetime(time_unit=\"ms\")).dt.replace_time_zone(\"UTC\")\n",
    ")"
   ]
  },
  {
   "cell_type": "code",
   "execution_count": 32,
   "metadata": {},
   "outputs": [
    {
     "name": "stderr",
     "output_type": "stream",
     "text": [
      "/var/folders/bg/q288_3h54pg5fgrm5np7xp8h0000gn/T/ipykernel_27284/4163147807.py:2: DeprecationWarning:\n",
      "\n",
      "`LazyGroupBy.count` is deprecated. It has been renamed to `len`.\n",
      "\n"
     ]
    }
   ],
   "source": [
    "# Group by user and count the number of comments\n",
    "user_counts = df.group_by(\"author\").count().collect()\n",
    "\n",
    "# Sort by the number of comments in descending order\n",
    "user_counts = user_counts.sort(\"count\", descending=True)\n"
   ]
  },
  {
   "cell_type": "code",
   "execution_count": 33,
   "metadata": {},
   "outputs": [],
   "source": [
    "filtered_df = user_counts.filter(~pl.col(\"author\").is_in([\"[deleted]\", \"AutoModerator\"])).filter(~pl.col(\"author\").str.contains(\"(.?)bot|(.?)Bot\"))\n"
   ]
  },
  {
   "cell_type": "code",
   "execution_count": 34,
   "metadata": {},
   "outputs": [
    {
     "data": {
      "text/html": [
       "<div><style>\n",
       ".dataframe > thead > tr,\n",
       ".dataframe > tbody > tr {\n",
       "  text-align: right;\n",
       "  white-space: pre-wrap;\n",
       "}\n",
       "</style>\n",
       "<small>shape: (2_505_226, 2)</small><table border=\"1\" class=\"dataframe\"><thead><tr><th>author</th><th>count</th></tr><tr><td>str</td><td>u32</td></tr></thead><tbody><tr><td>&quot;TweetPoster&quot;</td><td>16325</td></tr><tr><td>&quot;Doctor-Kitten&quot;</td><td>13830</td></tr><tr><td>&quot;MTGCardFetcher&quot;</td><td>12306</td></tr><tr><td>&quot;imgurtranscriber&quot;</td><td>10302</td></tr><tr><td>&quot;Marvelvsdc00&quot;</td><td>9090</td></tr><tr><td>&hellip;</td><td>&hellip;</td></tr><tr><td>&quot;dasloog&quot;</td><td>1</td></tr><tr><td>&quot;klevenleven1&quot;</td><td>1</td></tr><tr><td>&quot;grvaity&quot;</td><td>1</td></tr><tr><td>&quot;bslkendall&quot;</td><td>1</td></tr><tr><td>&quot;subbanmtl&quot;</td><td>1</td></tr></tbody></table></div>"
      ],
      "text/plain": [
       "shape: (2_505_226, 2)\n",
       "┌──────────────────┬───────┐\n",
       "│ author           ┆ count │\n",
       "│ ---              ┆ ---   │\n",
       "│ str              ┆ u32   │\n",
       "╞══════════════════╪═══════╡\n",
       "│ TweetPoster      ┆ 16325 │\n",
       "│ Doctor-Kitten    ┆ 13830 │\n",
       "│ MTGCardFetcher   ┆ 12306 │\n",
       "│ imgurtranscriber ┆ 10302 │\n",
       "│ Marvelvsdc00     ┆ 9090  │\n",
       "│ …                ┆ …     │\n",
       "│ dasloog          ┆ 1     │\n",
       "│ klevenleven1     ┆ 1     │\n",
       "│ grvaity          ┆ 1     │\n",
       "│ bslkendall       ┆ 1     │\n",
       "│ subbanmtl        ┆ 1     │\n",
       "└──────────────────┴───────┘"
      ]
     },
     "execution_count": 34,
     "metadata": {},
     "output_type": "execute_result"
    }
   ],
   "source": [
    "filtered_df"
   ]
  },
  {
   "cell_type": "code",
   "execution_count": 35,
   "metadata": {},
   "outputs": [],
   "source": [
    "# from dtale import show\n",
    "\n",
    "# show(filtered_df.to_pandas()).open_browser()"
   ]
  },
  {
   "cell_type": "code",
   "execution_count": 36,
   "metadata": {},
   "outputs": [
    {
     "data": {
      "text/plain": [
       "460270"
      ]
     },
     "execution_count": 36,
     "metadata": {},
     "output_type": "execute_result"
    }
   ],
   "source": [
    "# count the number of users with more than 20 comments\n",
    "user_counts.filter(pl.col(\"count\") > 20).shape[0]"
   ]
  },
  {
   "cell_type": "code",
   "execution_count": 69,
   "metadata": {},
   "outputs": [
    {
     "data": {
      "text/html": [
       "<div><style>\n",
       ".dataframe > thead > tr,\n",
       ".dataframe > tbody > tr {\n",
       "  text-align: right;\n",
       "  white-space: pre-wrap;\n",
       "}\n",
       "</style>\n",
       "<small>shape: (1_000, 3)</small><table border=\"1\" class=\"dataframe\"><thead><tr><th>body</th><th>created_utc</th><th>author</th></tr><tr><td>str</td><td>datetime[ms, UTC]</td><td>str</td></tr></thead><tbody><tr><td>&quot;moved in, threw out all my shi…</td><td>2015-01-01 02:01:45 UTC</td><td>&quot;yetshi&quot;</td></tr><tr><td>&quot;get fucked cunt&quot;</td><td>2015-01-01 04:54:48 UTC</td><td>&quot;shifty39&quot;</td></tr><tr><td>&quot;That&#x27;s hela cool&quot;</td><td>2015-01-01 05:13:54 UTC</td><td>&quot;balraj_01&quot;</td></tr><tr><td>&quot;Lol, why doesn&#x27;t he work, beca…</td><td>2015-01-01 12:20:30 UTC</td><td>&quot;shifty39&quot;</td></tr><tr><td>&quot;The quality isn&#x27;t even bad eve…</td><td>2015-01-01 15:48:01 UTC</td><td>&quot;RaastaMousee&quot;</td></tr><tr><td>&hellip;</td><td>&hellip;</td><td>&hellip;</td></tr><tr><td>&quot;In Cooperation With\n",
       "9to5, Nati…</td><td>2015-01-31 22:12:25 UTC</td><td>&quot;HOLIDAY_headcase&quot;</td></tr><tr><td>&quot;Looks good. Might give it a go…</td><td>2015-01-31 22:36:45 UTC</td><td>&quot;asbks&quot;</td></tr><tr><td>&quot;Do you drive in GA alot? It se…</td><td>2015-01-31 22:50:35 UTC</td><td>&quot;happyloaf&quot;</td></tr><tr><td>&quot;Jesus wants you to stop spammi…</td><td>2015-01-31 23:07:13 UTC</td><td>&quot;RounderKatt&quot;</td></tr><tr><td>&quot;I&#x27;m only 35, but this is appar…</td><td>2015-01-31 23:39:39 UTC</td><td>&quot;RounderKatt&quot;</td></tr></tbody></table></div>"
      ],
      "text/plain": [
       "shape: (1_000, 3)\n",
       "┌─────────────────────────────────┬─────────────────────────┬──────────────────┐\n",
       "│ body                            ┆ created_utc             ┆ author           │\n",
       "│ ---                             ┆ ---                     ┆ ---              │\n",
       "│ str                             ┆ datetime[ms, UTC]       ┆ str              │\n",
       "╞═════════════════════════════════╪═════════════════════════╪══════════════════╡\n",
       "│ moved in, threw out all my shi… ┆ 2015-01-01 02:01:45 UTC ┆ yetshi           │\n",
       "│ get fucked cunt                 ┆ 2015-01-01 04:54:48 UTC ┆ shifty39         │\n",
       "│ That's hela cool                ┆ 2015-01-01 05:13:54 UTC ┆ balraj_01        │\n",
       "│ Lol, why doesn't he work, beca… ┆ 2015-01-01 12:20:30 UTC ┆ shifty39         │\n",
       "│ The quality isn't even bad eve… ┆ 2015-01-01 15:48:01 UTC ┆ RaastaMousee     │\n",
       "│ …                               ┆ …                       ┆ …                │\n",
       "│ In Cooperation With             ┆ 2015-01-31 22:12:25 UTC ┆ HOLIDAY_headcase │\n",
       "│ 9to5, Nati…                     ┆                         ┆                  │\n",
       "│ Looks good. Might give it a go… ┆ 2015-01-31 22:36:45 UTC ┆ asbks            │\n",
       "│ Do you drive in GA alot? It se… ┆ 2015-01-31 22:50:35 UTC ┆ happyloaf        │\n",
       "│ Jesus wants you to stop spammi… ┆ 2015-01-31 23:07:13 UTC ┆ RounderKatt      │\n",
       "│ I'm only 35, but this is appar… ┆ 2015-01-31 23:39:39 UTC ┆ RounderKatt      │\n",
       "└─────────────────────────────────┴─────────────────────────┴──────────────────┘"
      ]
     },
     "execution_count": 69,
     "metadata": {},
     "output_type": "execute_result"
    }
   ],
   "source": [
    "sample_size = 50\n",
    "user_ids = user_counts.filter(pl.col(\"count\") == 20).sample(sample_size).get_column(\"author\").to_list()\n",
    "\n",
    "# get all their comments\n",
    "comments = df.filter(pl.col(\"author\").is_in(user_ids)).select([\"body\", \"created_utc\", \"author\"]).collect()\n",
    "comments"
   ]
  },
  {
   "cell_type": "code",
   "execution_count": 70,
   "metadata": {},
   "outputs": [],
   "source": [
    "# aggregate into a single string\n",
    "autor_comments = comments.with_columns(\n",
    "    #formatted_comment = pl.format(\"At {}: {}\", pl.col(\"created_utc\").dt.strftime(\"%Y-%m-%d %H:%M\"), pl.col(\"body\"))\n",
    "    formatted_comment = pl.col(\"body\")\n",
    ").group_by(\"author\").agg(\n",
    "    pl.col(\"formatted_comment\").str.join(\"\\n\")\n",
    ").select(\"formatted_comment\", \"author\")"
   ]
  },
  {
   "cell_type": "code",
   "execution_count": null,
   "metadata": {},
   "outputs": [],
   "source": [
    "import dotenv\n",
    "dotenv.load_dotenv()"
   ]
  },
  {
   "cell_type": "code",
   "execution_count": 48,
   "metadata": {},
   "outputs": [
    {
     "data": {
      "text/plain": [
       "True"
      ]
     },
     "execution_count": 48,
     "metadata": {},
     "output_type": "execute_result"
    }
   ],
   "source": [
    "from transformers import AutoProcessor\n",
    "\n",
    "model_id = \"google/gemma-3-27b-it\"\n",
    "processor = AutoProcessor.from_pretrained(model_id)"
   ]
  },
  {
   "cell_type": "code",
   "execution_count": 58,
   "metadata": {},
   "outputs": [],
   "source": [
    "def get_token_count(s):\n",
    "    messages = [{\"role\": \"user\", \"content\": [{\"type\": \"text\", \"text\": s}]}]\n",
    "    inputs = processor.apply_chat_template(\n",
    "        messages, add_generation_prompt=True, tokenize=True,\n",
    "        return_dict=True, return_tensors=\"pt\"\n",
    "    )\n",
    "    return inputs[\"input_ids\"].shape[-1]\n",
    "\n",
    "def get_characters_per_token(s):\n",
    "    return len(s) / get_token_count(s)\n",
    "\n",
    "def get_words_per_token(s):\n",
    "    return len(s.split()) / get_token_count(s)"
   ]
  },
  {
   "cell_type": "code",
   "execution_count": 99,
   "metadata": {},
   "outputs": [
    {
     "data": {
      "text/plain": [
       "820"
      ]
     },
     "execution_count": 99,
     "metadata": {},
     "output_type": "execute_result"
    }
   ],
   "source": [
    "get_token_count(autor_comments.sample(1).get_column(\"formatted_comment\").item())"
   ]
  },
  {
   "cell_type": "code",
   "execution_count": 100,
   "metadata": {},
   "outputs": [
    {
     "name": "stderr",
     "output_type": "stream",
     "text": [
      "<sys>:0: MapWithoutReturnDtypeWarning:\n",
      "\n",
      "Calling `map_elements` without specifying `return_dtype` can lead to unpredictable results. Specify `return_dtype` to silence this warning.\n",
      "\n",
      "<sys>:0: MapWithoutReturnDtypeWarning:\n",
      "\n",
      "Calling `map_elements` without specifying `return_dtype` can lead to unpredictable results. Specify `return_dtype` to silence this warning.\n",
      "\n"
     ]
    }
   ],
   "source": [
    "per_token_counts = autor_comments.with_columns(\n",
    "    cpt=pl.col(\"formatted_comment\").map_elements(get_characters_per_token),\n",
    "    wpt=pl.col(\"formatted_comment\").map_elements(get_words_per_token)\n",
    ")"
   ]
  },
  {
   "cell_type": "code",
   "execution_count": 103,
   "metadata": {},
   "outputs": [
    {
     "name": "stdout",
     "output_type": "stream",
     "text": [
      "Average characters per token: 3.8958090773961147\n",
      "Median characters per token: 3.8969447410111586\n",
      "Average words per token: 0.7088223991825234\n",
      "Median words per token: 0.7346745175008178\n"
     ]
    }
   ],
   "source": [
    "# get averages and medians\n",
    "cpt_avg = per_token_counts.select(\"cpt\").mean().item()\n",
    "cpt_median = per_token_counts.select(\"cpt\").median().item()\n",
    "wpt_avg = per_token_counts.select(\"wpt\").mean().item()\n",
    "wpt_median = per_token_counts.select(\"wpt\").median().item()\n",
    "\n",
    "print(f\"Average characters per token: {cpt_avg}\")\n",
    "print(f\"Median characters per token: {cpt_median}\")\n",
    "print(f\"Average words per token: {wpt_avg}\")\n",
    "print(f\"Median words per token: {wpt_median}\")\n"
   ]
  },
  {
   "cell_type": "code",
   "execution_count": 53,
   "metadata": {},
   "outputs": [
    {
     "data": {
      "application/vnd.plotly.v1+json": {
       "config": {
        "plotlyServerURL": "https://plot.ly"
       },
       "data": [
        {
         "customdata": [
          [
           1,
           164.24,
           "-0---0-, mtjess60, Zanzure, guywhosaysyeah, RedMushtoom, Dahkter, RiceOnTheRun, brettdavids, SiliconGhosted, zephyrus17, ..."
          ],
          [
           164.24,
           327.48,
           "Energy_Turtle, formerwomble, Xantoxu, alaskafish, will_holmes, RedCoatsForever, Stitchosaur, NyanDerp, Zen_Drifter, gnrl2, ..."
          ],
          [
           327.48,
           490.72,
           "Kleeberg, Lastunamed, dillypoon, jimbo831, Kikool42, Johnny_Four-Fingers, pleasecallmebigpapa, MrShile, Lawsoffire, KennyMcCormick315, ..."
          ],
          [
           490.72,
           653.96,
           "foamed, cpxh, MoreHtsThnSadaharuOh, Weave77, saneridermechanic, HyperLaxative, ImaCheeseMonkey, 110011001100, IRateBoobies, UWot69, ..."
          ],
          [
           653.96,
           817.2,
           "Angelicwitch93, Boss_Barkley, SamisSimas, ukiyoe, ajkwf9, thatguywithapencil, glittermustardmo, banned_accounts, Devicre, PMmeYourNoodz, ..."
          ],
          [
           817.2,
           980.44,
           "verdegrrl, houtex727, Scrinrusher, Helium_3, BuzzAxe, Agricola86, platypusmusic, thatguyfromnewyork, midnighteskye, SmarchHare, ..."
          ],
          [
           980.44,
           1143.68,
           "Khurtz009, JitGoinHam, Drak_is_Right, wellgroomedmcpoyle, zoidberg1339, Thulack, Allenrw3, EskimoNoise, IFightClouds, sunshinebeau, ..."
          ],
          [
           1143.68,
           1306.92,
           "putupyourdukes, NamesNotCrindy, StevenKeen, theisaacguy, ASouthernRussian, i_fap_to_anything, Bloodysneeze, kjata, lordderplythethird, TheGreatDave, ..."
          ],
          [
           1306.92,
           1470.16,
           "elfa82, lazycoins, PointXIV, idealreaddit, sunbolts, SirHolmesalot, Slyfox00, AngelofSloths, SkarmNightmare, kingeryck, ..."
          ],
          [
           1470.16,
           1633.4,
           "Jimmy_Serrano, MonsieurAnon, InsertSomeName, CeciliaMiles, topcatti, Ridiculisk1, daviddrewc, SupremeEvil, infinity526, famoushippopotamus, ..."
          ],
          [
           1633.4,
           1796.64,
           "frankiecat_, Ironic_Remorse, rydan, Bytemite, bazooked, TheKillingStick, CantaloupeCamper, ScarfRanger, Intergalactic_Whale, yoramex, ..."
          ],
          [
           1796.64,
           1959.88,
           "touchministry, rodandanga, seamusobrien, -Falcyon-, Gjones18, Challos, cdawg561, Ethanhekker, -Niernen, dnd1980, ..."
          ],
          [
           1959.88,
           2123.12,
           "Soulbeastdude, That_Unknown_Guy, nocherlas, Shadow-Pie, fargoadvice, diabet, JudgeJBS, Zaldax, Korneg, roguetroll, ..."
          ],
          [
           2123.12,
           2286.36,
           "Ame-no-nobuko, Satans__Secretary, ProbablyMyLastLogin, RedditCatFacts, shellbullet17, Frankeh, Mrs_Holman_7, YasiinBey, maybesaydie, EggheadDash, ..."
          ],
          [
           2286.36,
           2449.6000000000004,
           "ewk, Jenwith1N, SirLeoIII, triception, Thaddeus-J-Spiderman, Jim-Jones, Byrdman216, dylc, sylban, Harryisgreat1, ..."
          ],
          [
           2449.6000000000004,
           2612.84,
           "Kim_Jong_Goon, PornOverlord, emchun, Nathan_Grer, IguanadonsEverywhere, Artyom_The_Cat, thelordofcheese, Megaross, toughlilpony, the_great_ellie, ..."
          ],
          [
           2612.84,
           2776.08,
           "carissalf, BKLOVESU, Mari_Yanagawa, HumbleWhale, savoytruffle, CarlGrimes5Ever, LongDongFuk, jesus0nadinosaur, shutupisaac, rule34, ..."
          ],
          [
           2776.08,
           2939.32,
           "RJB1337, Tjames27, eagleshigh, recoverybelow, dannythegreat, SadPandaFace00, Lunas_Disciple, morbiusgreen, DRoseCantStop, daroon5, ..."
          ],
          [
           2939.32,
           3102.5600000000004,
           "robszombiez1, Lots42, Sickluna14, lolyou22, xSPYXEx, dubsdcarson, allergictoapples, flashfires, SharksPwn, Shiny_Sylveon"
          ],
          [
           3102.5600000000004,
           3265.8,
           "Engineer5816, Aerys1, tcookie88, Blassie098, roosterblue72, Derpahontas, acini, Jakomako, Bane_of_BILLEXE, nikorasu_the_great, ..."
          ],
          [
           3265.8,
           3429.04,
           "jonandkaylatoler, Bz0706, MovieGuide, Sirram, FonsoTheWhitesican"
          ],
          [
           3429.04,
           3592.28,
           "changetip, readonlypdf, codex561, sissyboi333, flannel_smoothie, ComputerByte, subredditreports, MikeTarrian"
          ],
          [
           3592.28,
           3755.5200000000004,
           "DolphinDoom, lolhaibai, IUsePretzelLogic, shaynoodle, Aidan_Fikri, VeryAwesome69"
          ],
          [
           3755.5200000000004,
           3918.76,
           "megangigilyn, Luna_Lockheart, HamsterFarm, Mace55555, MrsJeek, Peacehippo, CavemanChris"
          ],
          [
           3918.76,
           4082,
           "much-wow-doge, anbeav, FinalRhapsody, Warlizard"
          ],
          [
           4082,
           4245.24,
           "ImaginaryMan, ClearlyInvsible, ravenluna, Manami_Kimura, mikailgirl"
          ],
          [
           4245.24,
           4408.4800000000005,
           "bookwormz4, BluePotterExpress, quicksilverfrost"
          ],
          [
           4408.4800000000005,
           4571.72,
           "DigbyMayor, Leporad, Hanzo_Ishimura, WhenAllElseFail, DastardlyGifts, king_kalamari"
          ],
          [
           4571.72,
           4734.96,
           "catgirl64, Thrice_Berg"
          ],
          [
           4734.96,
           4898.200000000001,
           "20141220"
          ],
          [
           4898.200000000001,
           5061.4400000000005,
           "Thief39, braveonion"
          ],
          [
           5061.4400000000005,
           5224.68,
           "TwilitKing, own3d1992"
          ],
          [
           5224.68,
           5387.92,
           "Bladex454, SilverForUbers"
          ],
          [
           5387.92,
           5551.16,
           "Tucan_Sam_"
          ],
          [
           5714.400000000001,
           5877.64,
           "Misha_Wahaha, PriceZombie, angelofthedoctor"
          ],
          [
           6040.88,
           6204.120000000001,
           "MayTentacleBeWithYee"
          ],
          [
           6204.120000000001,
           6367.360000000001,
           "TotalWarfare, greenserpent25"
          ],
          [
           6693.84,
           6857.08,
           "Phelan_Hobbs, Metaboss84"
          ],
          [
           6857.08,
           7020.320000000001,
           "Late_Night_Grumbler"
          ],
          [
           7020.320000000001,
           7183.56,
           "Kyurem99XD"
          ],
          [
           7346.8,
           7510.040000000001,
           "Sir_Willis_CMS"
          ],
          [
           7999.76,
           8163,
           "aGoldenWhale"
          ],
          [
           8652.720000000001,
           8815.960000000001,
           "timewaitsforsome"
          ],
          [
           8979.2,
           9142.44,
           "Marvelvsdc00, pineapple_lumps"
          ],
          [
           10285.12,
           10448.36,
           "imgurtranscriber"
          ],
          [
           12244,
           12407.240000000002,
           "MTGCardFetcher"
          ],
          [
           13713.16,
           13876.400000000001,
           "Doctor-Kitten"
          ],
          [
           16161.76,
           16325,
           "TweetPoster"
          ]
         ],
         "hovertemplate": "<b>Count Range:</b> [%{customdata[0]:.0f} - %{customdata[1]:.0f})<br><b>Frequency:</b> %{y}<br><b>Top Authors:</b> %{customdata[2]}<extra></extra>",
         "legendgroup": "",
         "marker": {
          "color": "#636efa",
          "pattern": {
           "shape": ""
          }
         },
         "name": "",
         "orientation": "v",
         "showlegend": false,
         "textposition": "auto",
         "type": "bar",
         "x": {
          "bdata": "SOF6FK6nVEDsUbgehbtuQJqZmZmZkXlAH4XrUbjigUBxPQrXo/yGQMP1KFyPFoxACtejcD2YkEA0MzMzMyWTQFyPwvUospVAhutRuB4/mECuR+F6FMyaQNijcD0KWZ1AAAAAAADmn0AUrkfhejmhQCpcj8L1f6JAPgrXo3DGo0BSuB6F6wylQGZmZmZmU6ZAfBSuR+GZp0CQwvUoXOCoQKRwPQrXJqpAuB6F61Ftq0DOzMzMzLOsQOJ6FK5H+q1A9ihcj8JAr0CF61G4nkOwQJDC9Sjc5rBAmpmZmRmKsUCkcD0KVy2yQK5H4XqU0LJAuR6F69Fzs0DD9ShcDxe0QM3MzMxMurRA16NwPYpdtUDsUbgeBaS2QAAAAACA6rdAC9ejcL2NuEApXI/CdXe6QDQzMzOzGrtAPgrXo/C9u0BSuB6FawS9QHsUrkdhkb9AUrgehSsPwUBcj8L1aLLBQIbrUbheP8RAw/UoXM8SyEBxPQrXY/HKQD4K16Owuc9A",
          "dtype": "f8"
         },
         "xaxis": "x",
         "y": {
          "bdata": "h24lACWKAAAyJAAA2w0AAG4GAAAiAwAA/AEAACABAACuAAAAcAAAAFAAAABAAAAANAAAAB0AAAAWAAAAFAAAAA4AAAAQAAAACgAAAAsAAAAFAAAACAAAAAYAAAAHAAAABAAAAAUAAAADAAAABgAAAAIAAAABAAAAAgAAAAIAAAACAAAAAQAAAAMAAAABAAAAAgAAAAIAAAABAAAAAQAAAAEAAAABAAAAAQAAAAIAAAABAAAAAQAAAAEAAAABAAAA",
          "dtype": "i4"
         },
         "yaxis": "y"
        }
       ],
       "layout": {
        "bargap": 0,
        "barmode": "relative",
        "legend": {
         "tracegroupgap": 0
        },
        "template": {
         "data": {
          "bar": [
           {
            "error_x": {
             "color": "#2a3f5f"
            },
            "error_y": {
             "color": "#2a3f5f"
            },
            "marker": {
             "line": {
              "color": "#E5ECF6",
              "width": 0.5
             },
             "pattern": {
              "fillmode": "overlay",
              "size": 10,
              "solidity": 0.2
             }
            },
            "type": "bar"
           }
          ],
          "barpolar": [
           {
            "marker": {
             "line": {
              "color": "#E5ECF6",
              "width": 0.5
             },
             "pattern": {
              "fillmode": "overlay",
              "size": 10,
              "solidity": 0.2
             }
            },
            "type": "barpolar"
           }
          ],
          "carpet": [
           {
            "aaxis": {
             "endlinecolor": "#2a3f5f",
             "gridcolor": "white",
             "linecolor": "white",
             "minorgridcolor": "white",
             "startlinecolor": "#2a3f5f"
            },
            "baxis": {
             "endlinecolor": "#2a3f5f",
             "gridcolor": "white",
             "linecolor": "white",
             "minorgridcolor": "white",
             "startlinecolor": "#2a3f5f"
            },
            "type": "carpet"
           }
          ],
          "choropleth": [
           {
            "colorbar": {
             "outlinewidth": 0,
             "ticks": ""
            },
            "type": "choropleth"
           }
          ],
          "contour": [
           {
            "colorbar": {
             "outlinewidth": 0,
             "ticks": ""
            },
            "colorscale": [
             [
              0,
              "#0d0887"
             ],
             [
              0.1111111111111111,
              "#46039f"
             ],
             [
              0.2222222222222222,
              "#7201a8"
             ],
             [
              0.3333333333333333,
              "#9c179e"
             ],
             [
              0.4444444444444444,
              "#bd3786"
             ],
             [
              0.5555555555555556,
              "#d8576b"
             ],
             [
              0.6666666666666666,
              "#ed7953"
             ],
             [
              0.7777777777777778,
              "#fb9f3a"
             ],
             [
              0.8888888888888888,
              "#fdca26"
             ],
             [
              1,
              "#f0f921"
             ]
            ],
            "type": "contour"
           }
          ],
          "contourcarpet": [
           {
            "colorbar": {
             "outlinewidth": 0,
             "ticks": ""
            },
            "type": "contourcarpet"
           }
          ],
          "heatmap": [
           {
            "colorbar": {
             "outlinewidth": 0,
             "ticks": ""
            },
            "colorscale": [
             [
              0,
              "#0d0887"
             ],
             [
              0.1111111111111111,
              "#46039f"
             ],
             [
              0.2222222222222222,
              "#7201a8"
             ],
             [
              0.3333333333333333,
              "#9c179e"
             ],
             [
              0.4444444444444444,
              "#bd3786"
             ],
             [
              0.5555555555555556,
              "#d8576b"
             ],
             [
              0.6666666666666666,
              "#ed7953"
             ],
             [
              0.7777777777777778,
              "#fb9f3a"
             ],
             [
              0.8888888888888888,
              "#fdca26"
             ],
             [
              1,
              "#f0f921"
             ]
            ],
            "type": "heatmap"
           }
          ],
          "histogram": [
           {
            "marker": {
             "pattern": {
              "fillmode": "overlay",
              "size": 10,
              "solidity": 0.2
             }
            },
            "type": "histogram"
           }
          ],
          "histogram2d": [
           {
            "colorbar": {
             "outlinewidth": 0,
             "ticks": ""
            },
            "colorscale": [
             [
              0,
              "#0d0887"
             ],
             [
              0.1111111111111111,
              "#46039f"
             ],
             [
              0.2222222222222222,
              "#7201a8"
             ],
             [
              0.3333333333333333,
              "#9c179e"
             ],
             [
              0.4444444444444444,
              "#bd3786"
             ],
             [
              0.5555555555555556,
              "#d8576b"
             ],
             [
              0.6666666666666666,
              "#ed7953"
             ],
             [
              0.7777777777777778,
              "#fb9f3a"
             ],
             [
              0.8888888888888888,
              "#fdca26"
             ],
             [
              1,
              "#f0f921"
             ]
            ],
            "type": "histogram2d"
           }
          ],
          "histogram2dcontour": [
           {
            "colorbar": {
             "outlinewidth": 0,
             "ticks": ""
            },
            "colorscale": [
             [
              0,
              "#0d0887"
             ],
             [
              0.1111111111111111,
              "#46039f"
             ],
             [
              0.2222222222222222,
              "#7201a8"
             ],
             [
              0.3333333333333333,
              "#9c179e"
             ],
             [
              0.4444444444444444,
              "#bd3786"
             ],
             [
              0.5555555555555556,
              "#d8576b"
             ],
             [
              0.6666666666666666,
              "#ed7953"
             ],
             [
              0.7777777777777778,
              "#fb9f3a"
             ],
             [
              0.8888888888888888,
              "#fdca26"
             ],
             [
              1,
              "#f0f921"
             ]
            ],
            "type": "histogram2dcontour"
           }
          ],
          "mesh3d": [
           {
            "colorbar": {
             "outlinewidth": 0,
             "ticks": ""
            },
            "type": "mesh3d"
           }
          ],
          "parcoords": [
           {
            "line": {
             "colorbar": {
              "outlinewidth": 0,
              "ticks": ""
             }
            },
            "type": "parcoords"
           }
          ],
          "pie": [
           {
            "automargin": true,
            "type": "pie"
           }
          ],
          "scatter": [
           {
            "fillpattern": {
             "fillmode": "overlay",
             "size": 10,
             "solidity": 0.2
            },
            "type": "scatter"
           }
          ],
          "scatter3d": [
           {
            "line": {
             "colorbar": {
              "outlinewidth": 0,
              "ticks": ""
             }
            },
            "marker": {
             "colorbar": {
              "outlinewidth": 0,
              "ticks": ""
             }
            },
            "type": "scatter3d"
           }
          ],
          "scattercarpet": [
           {
            "marker": {
             "colorbar": {
              "outlinewidth": 0,
              "ticks": ""
             }
            },
            "type": "scattercarpet"
           }
          ],
          "scattergeo": [
           {
            "marker": {
             "colorbar": {
              "outlinewidth": 0,
              "ticks": ""
             }
            },
            "type": "scattergeo"
           }
          ],
          "scattergl": [
           {
            "marker": {
             "colorbar": {
              "outlinewidth": 0,
              "ticks": ""
             }
            },
            "type": "scattergl"
           }
          ],
          "scattermap": [
           {
            "marker": {
             "colorbar": {
              "outlinewidth": 0,
              "ticks": ""
             }
            },
            "type": "scattermap"
           }
          ],
          "scattermapbox": [
           {
            "marker": {
             "colorbar": {
              "outlinewidth": 0,
              "ticks": ""
             }
            },
            "type": "scattermapbox"
           }
          ],
          "scatterpolar": [
           {
            "marker": {
             "colorbar": {
              "outlinewidth": 0,
              "ticks": ""
             }
            },
            "type": "scatterpolar"
           }
          ],
          "scatterpolargl": [
           {
            "marker": {
             "colorbar": {
              "outlinewidth": 0,
              "ticks": ""
             }
            },
            "type": "scatterpolargl"
           }
          ],
          "scatterternary": [
           {
            "marker": {
             "colorbar": {
              "outlinewidth": 0,
              "ticks": ""
             }
            },
            "type": "scatterternary"
           }
          ],
          "surface": [
           {
            "colorbar": {
             "outlinewidth": 0,
             "ticks": ""
            },
            "colorscale": [
             [
              0,
              "#0d0887"
             ],
             [
              0.1111111111111111,
              "#46039f"
             ],
             [
              0.2222222222222222,
              "#7201a8"
             ],
             [
              0.3333333333333333,
              "#9c179e"
             ],
             [
              0.4444444444444444,
              "#bd3786"
             ],
             [
              0.5555555555555556,
              "#d8576b"
             ],
             [
              0.6666666666666666,
              "#ed7953"
             ],
             [
              0.7777777777777778,
              "#fb9f3a"
             ],
             [
              0.8888888888888888,
              "#fdca26"
             ],
             [
              1,
              "#f0f921"
             ]
            ],
            "type": "surface"
           }
          ],
          "table": [
           {
            "cells": {
             "fill": {
              "color": "#EBF0F8"
             },
             "line": {
              "color": "white"
             }
            },
            "header": {
             "fill": {
              "color": "#C8D4E3"
             },
             "line": {
              "color": "white"
             }
            },
            "type": "table"
           }
          ]
         },
         "layout": {
          "annotationdefaults": {
           "arrowcolor": "#2a3f5f",
           "arrowhead": 0,
           "arrowwidth": 1
          },
          "autotypenumbers": "strict",
          "coloraxis": {
           "colorbar": {
            "outlinewidth": 0,
            "ticks": ""
           }
          },
          "colorscale": {
           "diverging": [
            [
             0,
             "#8e0152"
            ],
            [
             0.1,
             "#c51b7d"
            ],
            [
             0.2,
             "#de77ae"
            ],
            [
             0.3,
             "#f1b6da"
            ],
            [
             0.4,
             "#fde0ef"
            ],
            [
             0.5,
             "#f7f7f7"
            ],
            [
             0.6,
             "#e6f5d0"
            ],
            [
             0.7,
             "#b8e186"
            ],
            [
             0.8,
             "#7fbc41"
            ],
            [
             0.9,
             "#4d9221"
            ],
            [
             1,
             "#276419"
            ]
           ],
           "sequential": [
            [
             0,
             "#0d0887"
            ],
            [
             0.1111111111111111,
             "#46039f"
            ],
            [
             0.2222222222222222,
             "#7201a8"
            ],
            [
             0.3333333333333333,
             "#9c179e"
            ],
            [
             0.4444444444444444,
             "#bd3786"
            ],
            [
             0.5555555555555556,
             "#d8576b"
            ],
            [
             0.6666666666666666,
             "#ed7953"
            ],
            [
             0.7777777777777778,
             "#fb9f3a"
            ],
            [
             0.8888888888888888,
             "#fdca26"
            ],
            [
             1,
             "#f0f921"
            ]
           ],
           "sequentialminus": [
            [
             0,
             "#0d0887"
            ],
            [
             0.1111111111111111,
             "#46039f"
            ],
            [
             0.2222222222222222,
             "#7201a8"
            ],
            [
             0.3333333333333333,
             "#9c179e"
            ],
            [
             0.4444444444444444,
             "#bd3786"
            ],
            [
             0.5555555555555556,
             "#d8576b"
            ],
            [
             0.6666666666666666,
             "#ed7953"
            ],
            [
             0.7777777777777778,
             "#fb9f3a"
            ],
            [
             0.8888888888888888,
             "#fdca26"
            ],
            [
             1,
             "#f0f921"
            ]
           ]
          },
          "colorway": [
           "#636efa",
           "#EF553B",
           "#00cc96",
           "#ab63fa",
           "#FFA15A",
           "#19d3f3",
           "#FF6692",
           "#B6E880",
           "#FF97FF",
           "#FECB52"
          ],
          "font": {
           "color": "#2a3f5f"
          },
          "geo": {
           "bgcolor": "white",
           "lakecolor": "white",
           "landcolor": "#E5ECF6",
           "showlakes": true,
           "showland": true,
           "subunitcolor": "white"
          },
          "hoverlabel": {
           "align": "left"
          },
          "hovermode": "closest",
          "mapbox": {
           "style": "light"
          },
          "paper_bgcolor": "white",
          "plot_bgcolor": "#E5ECF6",
          "polar": {
           "angularaxis": {
            "gridcolor": "white",
            "linecolor": "white",
            "ticks": ""
           },
           "bgcolor": "#E5ECF6",
           "radialaxis": {
            "gridcolor": "white",
            "linecolor": "white",
            "ticks": ""
           }
          },
          "scene": {
           "xaxis": {
            "backgroundcolor": "#E5ECF6",
            "gridcolor": "white",
            "gridwidth": 2,
            "linecolor": "white",
            "showbackground": true,
            "ticks": "",
            "zerolinecolor": "white"
           },
           "yaxis": {
            "backgroundcolor": "#E5ECF6",
            "gridcolor": "white",
            "gridwidth": 2,
            "linecolor": "white",
            "showbackground": true,
            "ticks": "",
            "zerolinecolor": "white"
           },
           "zaxis": {
            "backgroundcolor": "#E5ECF6",
            "gridcolor": "white",
            "gridwidth": 2,
            "linecolor": "white",
            "showbackground": true,
            "ticks": "",
            "zerolinecolor": "white"
           }
          },
          "shapedefaults": {
           "line": {
            "color": "#2a3f5f"
           }
          },
          "ternary": {
           "aaxis": {
            "gridcolor": "white",
            "linecolor": "white",
            "ticks": ""
           },
           "baxis": {
            "gridcolor": "white",
            "linecolor": "white",
            "ticks": ""
           },
           "bgcolor": "#E5ECF6",
           "caxis": {
            "gridcolor": "white",
            "linecolor": "white",
            "ticks": ""
           }
          },
          "title": {
           "x": 0.05
          },
          "xaxis": {
           "automargin": true,
           "gridcolor": "white",
           "linecolor": "white",
           "ticks": "",
           "title": {
            "standoff": 15
           },
           "zerolinecolor": "white",
           "zerolinewidth": 2
          },
          "yaxis": {
           "automargin": true,
           "gridcolor": "white",
           "linecolor": "white",
           "ticks": "",
           "title": {
            "standoff": 15
           },
           "zerolinecolor": "white",
           "zerolinewidth": 2
          }
         }
        },
        "title": {
         "text": "Interactive Distribution of User Comment Counts (Excluding '[deleted]' & 'AutoModerator')"
        },
        "xaxis": {
         "anchor": "y",
         "domain": [
          0,
          1
         ],
         "title": {
          "text": "Number of Comments per User (Binned)"
         }
        },
        "yaxis": {
         "anchor": "x",
         "domain": [
          0,
          1
         ],
         "title": {
          "text": "Frequency (Log Scale)"
         },
         "type": "log"
        }
       }
      }
     },
     "metadata": {},
     "output_type": "display_data"
    }
   ],
   "source": [
    "# plot distribution of counts values (interactive with top authors on hover)\n",
    "import plotly.express as px\n",
    "import polars as pl\n",
    "import pandas as pd\n",
    "import numpy as np # Import numpy\n",
    "\n",
    "# Assume 'filtered_df' is a Polars DataFrame with 'author' and 'count' columns loaded previously\n",
    "# filtered_df = ... (load or define filtered_df here if not already done)\n",
    "\n",
    "# --- Manual Binning and Author Aggregation ---\n",
    "counts_np = filtered_df['count'].to_numpy()\n",
    "num_bins = 100 # Define the number of bins\n",
    "\n",
    "# 1. Calculate histogram frequencies and bin edges using NumPy\n",
    "frequencies, bin_edges = np.histogram(counts_np, bins=num_bins)\n",
    "\n",
    "# 2. Calculate bin centers (for plotting on x-axis)\n",
    "bin_centers = (bin_edges[:-1] + bin_edges[1:]) / 2\n",
    "\n",
    "# 3. For each bin, find the top N authors within that count range\n",
    "top_authors_per_bin = []\n",
    "max_authors_to_show = 10\n",
    "\n",
    "for i in range(num_bins):\n",
    "    lower_bound = bin_edges[i]\n",
    "    upper_bound = bin_edges[i+1]\n",
    "\n",
    "    # Find authors in the current bin's count range\n",
    "    # Ensure the upper bound is inclusive for the last bin edge case\n",
    "    if i == num_bins - 1:\n",
    "         authors_in_bin_df = filtered_df.filter(\n",
    "            (pl.col(\"count\") >= lower_bound) & (pl.col(\"count\") <= upper_bound)\n",
    "        )\n",
    "    else:\n",
    "        authors_in_bin_df = filtered_df.filter(\n",
    "            (pl.col(\"count\") >= lower_bound) & (pl.col(\"count\") < upper_bound)\n",
    "        )\n",
    "\n",
    "    # Get top authors (here, just taking the first N found in the filter, consider sorting if needed)\n",
    "    top_authors_list = authors_in_bin_df.get_column(\"author\").head(max_authors_to_show).to_list()\n",
    "\n",
    "    if not top_authors_list:\n",
    "        top_authors_per_bin.append(\"N/A\")\n",
    "    else:\n",
    "        authors_str = \", \".join(top_authors_list)\n",
    "        if len(authors_in_bin_df) > max_authors_to_show:\n",
    "             authors_str += \", ...\" # Indicate if there are more authors\n",
    "        top_authors_per_bin.append(authors_str)\n",
    "\n",
    "\n",
    "# 4. Create a Pandas DataFrame for Plotly Bar chart\n",
    "plot_df = pd.DataFrame({\n",
    "    'bin_center': bin_centers,\n",
    "    'frequency': frequencies,\n",
    "    'bin_start': bin_edges[:-1],\n",
    "    'bin_end': bin_edges[1:],\n",
    "    'top_authors': top_authors_per_bin\n",
    "})\n",
    "\n",
    "# Filter out bins with zero frequency to avoid plotting empty bars (optional)\n",
    "plot_df = plot_df[plot_df['frequency'] > 0]\n",
    "\n",
    "# --- Create the Interactive Bar Chart (acting as Histogram) ---\n",
    "fig = px.bar(\n",
    "    plot_df,\n",
    "    x='bin_center',\n",
    "    y='frequency',\n",
    "    log_y=True, # Use logarithmic y-axis\n",
    "    title=\"Interactive Distribution of User Comment Counts (Excluding '[deleted]' & 'AutoModerator')\",\n",
    "    labels={'bin_center': 'Approx. Number of Comments per User', 'frequency': 'Frequency'}, # Customize axis labels\n",
    "    custom_data=['bin_start', 'bin_end', 'top_authors'] # Pass data needed for hover\n",
    ")\n",
    "\n",
    "# Customize the hover template\n",
    "fig.update_traces(\n",
    "    hovertemplate=\"<b>Count Range:</b> [%{customdata[0]:.0f} - %{customdata[1]:.0f})<br>\" +\n",
    "                  \"<b>Frequency:</b> %{y}<br>\" +\n",
    "                  \"<b>Top Authors:</b> %{customdata[2]}\" +\n",
    "                  \"<extra></extra>\" # Removes the default trace info\n",
    ")\n",
    "\n",
    "\n",
    "# Update layout for better readability (optional)\n",
    "fig.update_layout(\n",
    "    xaxis_title=\"Number of Comments per User (Binned)\",\n",
    "    yaxis_title=\"Frequency (Log Scale)\",\n",
    "    bargap=0 # Set bargap to 0 for histogram appearance\n",
    ")\n",
    "\n",
    "# Show the interactive figure\n",
    "fig.show()\n"
   ]
  },
  {
   "cell_type": "code",
   "execution_count": 54,
   "metadata": {},
   "outputs": [
    {
     "data": {
      "application/vnd.plotly.v1+json": {
       "config": {
        "plotlyServerURL": "https://plot.ly"
       },
       "data": [
        {
         "customdata": [
          [
           1,
           164.24,
           "-0---0-, mtjess60, Zanzure, guywhosaysyeah, RedMushtoom, Dahkter, RiceOnTheRun, brettdavids, SiliconGhosted, zephyrus17, ...",
           2453127
          ],
          [
           164.24,
           327.48,
           "Energy_Turtle, formerwomble, Xantoxu, alaskafish, will_holmes, RedCoatsForever, Stitchosaur, NyanDerp, Zen_Drifter, gnrl2, ...",
           35365
          ],
          [
           327.48,
           490.72,
           "Kleeberg, Lastunamed, dillypoon, jimbo831, Kikool42, Johnny_Four-Fingers, pleasecallmebigpapa, MrShile, Lawsoffire, KennyMcCormick315, ...",
           9266
          ],
          [
           490.72,
           653.96,
           "foamed, cpxh, MoreHtsThnSadaharuOh, Weave77, saneridermechanic, HyperLaxative, ImaCheeseMonkey, 110011001100, IRateBoobies, UWot69, ...",
           3547
          ],
          [
           653.96,
           817.2,
           "Angelicwitch93, Boss_Barkley, SamisSimas, ukiyoe, ajkwf9, thatguywithapencil, glittermustardmo, banned_accounts, Devicre, PMmeYourNoodz, ...",
           1646
          ],
          [
           817.2,
           980.44,
           "verdegrrl, houtex727, Scrinrusher, Helium_3, BuzzAxe, Agricola86, platypusmusic, thatguyfromnewyork, midnighteskye, SmarchHare, ...",
           802
          ],
          [
           980.44,
           1143.68,
           "Khurtz009, JitGoinHam, Drak_is_Right, wellgroomedmcpoyle, zoidberg1339, Thulack, Allenrw3, EskimoNoise, IFightClouds, sunshinebeau, ...",
           508
          ],
          [
           1143.68,
           1306.92,
           "putupyourdukes, NamesNotCrindy, StevenKeen, theisaacguy, ASouthernRussian, i_fap_to_anything, Bloodysneeze, kjata, lordderplythethird, TheGreatDave, ...",
           288
          ],
          [
           1306.92,
           1470.16,
           "elfa82, lazycoins, PointXIV, idealreaddit, sunbolts, SirHolmesalot, Slyfox00, AngelofSloths, SkarmNightmare, kingeryck, ...",
           174
          ],
          [
           1470.16,
           1633.4,
           "Jimmy_Serrano, MonsieurAnon, InsertSomeName, CeciliaMiles, topcatti, Ridiculisk1, daviddrewc, SupremeEvil, infinity526, famoushippopotamus, ...",
           112
          ],
          [
           1633.4,
           1796.64,
           "frankiecat_, Ironic_Remorse, rydan, Bytemite, bazooked, TheKillingStick, CantaloupeCamper, ScarfRanger, Intergalactic_Whale, yoramex, ...",
           80
          ],
          [
           1796.64,
           1959.88,
           "touchministry, rodandanga, seamusobrien, -Falcyon-, Gjones18, Challos, cdawg561, Ethanhekker, -Niernen, dnd1980, ...",
           64
          ],
          [
           1959.88,
           2123.12,
           "Soulbeastdude, That_Unknown_Guy, nocherlas, Shadow-Pie, fargoadvice, diabet, JudgeJBS, Zaldax, Korneg, roguetroll, ...",
           52
          ],
          [
           2123.12,
           2286.36,
           "Ame-no-nobuko, Satans__Secretary, ProbablyMyLastLogin, RedditCatFacts, shellbullet17, Frankeh, Mrs_Holman_7, YasiinBey, maybesaydie, EggheadDash, ...",
           29
          ],
          [
           2286.36,
           2449.6000000000004,
           "ewk, Jenwith1N, SirLeoIII, triception, Thaddeus-J-Spiderman, Jim-Jones, Byrdman216, dylc, sylban, Harryisgreat1, ...",
           22
          ],
          [
           2449.6000000000004,
           2612.84,
           "Kim_Jong_Goon, PornOverlord, emchun, Nathan_Grer, IguanadonsEverywhere, Artyom_The_Cat, thelordofcheese, Megaross, toughlilpony, the_great_ellie, ...",
           20
          ],
          [
           2612.84,
           2776.08,
           "carissalf, BKLOVESU, Mari_Yanagawa, HumbleWhale, savoytruffle, CarlGrimes5Ever, LongDongFuk, jesus0nadinosaur, shutupisaac, rule34, ...",
           14
          ],
          [
           2776.08,
           2939.32,
           "RJB1337, Tjames27, eagleshigh, recoverybelow, dannythegreat, SadPandaFace00, Lunas_Disciple, morbiusgreen, DRoseCantStop, daroon5, ...",
           16
          ],
          [
           2939.32,
           3102.5600000000004,
           "robszombiez1, Lots42, Sickluna14, lolyou22, xSPYXEx, dubsdcarson, allergictoapples, flashfires, SharksPwn, Shiny_Sylveon",
           10
          ],
          [
           3102.5600000000004,
           3265.8,
           "Engineer5816, Aerys1, tcookie88, Blassie098, roosterblue72, Derpahontas, acini, Jakomako, Bane_of_BILLEXE, nikorasu_the_great, ...",
           11
          ],
          [
           3265.8,
           3429.04,
           "jonandkaylatoler, Bz0706, MovieGuide, Sirram, FonsoTheWhitesican",
           5
          ],
          [
           3429.04,
           3592.28,
           "changetip, readonlypdf, codex561, sissyboi333, flannel_smoothie, ComputerByte, subredditreports, MikeTarrian",
           8
          ],
          [
           3592.28,
           3755.5200000000004,
           "DolphinDoom, lolhaibai, IUsePretzelLogic, shaynoodle, Aidan_Fikri, VeryAwesome69",
           6
          ],
          [
           3755.5200000000004,
           3918.76,
           "megangigilyn, Luna_Lockheart, HamsterFarm, Mace55555, MrsJeek, Peacehippo, CavemanChris",
           7
          ],
          [
           3918.76,
           4082,
           "much-wow-doge, anbeav, FinalRhapsody, Warlizard",
           4
          ],
          [
           4082,
           4245.24,
           "ImaginaryMan, ClearlyInvsible, ravenluna, Manami_Kimura, mikailgirl",
           5
          ],
          [
           4245.24,
           4408.4800000000005,
           "bookwormz4, BluePotterExpress, quicksilverfrost",
           3
          ],
          [
           4408.4800000000005,
           4571.72,
           "DigbyMayor, Leporad, Hanzo_Ishimura, WhenAllElseFail, DastardlyGifts, king_kalamari",
           6
          ],
          [
           4571.72,
           4734.96,
           "catgirl64, Thrice_Berg",
           2
          ],
          [
           4734.96,
           4898.200000000001,
           "20141220",
           1
          ],
          [
           4898.200000000001,
           5061.4400000000005,
           "Thief39, braveonion",
           2
          ],
          [
           5061.4400000000005,
           5224.68,
           "TwilitKing, own3d1992",
           2
          ],
          [
           5224.68,
           5387.92,
           "Bladex454, SilverForUbers",
           2
          ],
          [
           5387.92,
           5551.16,
           "Tucan_Sam_",
           1
          ],
          [
           5714.400000000001,
           5877.64,
           "Misha_Wahaha, PriceZombie, angelofthedoctor",
           3
          ],
          [
           6040.88,
           6204.120000000001,
           "MayTentacleBeWithYee",
           1
          ],
          [
           6204.120000000001,
           6367.360000000001,
           "TotalWarfare, greenserpent25",
           2
          ],
          [
           6693.84,
           6857.08,
           "Phelan_Hobbs, Metaboss84",
           2
          ],
          [
           6857.08,
           7020.320000000001,
           "Late_Night_Grumbler",
           1
          ],
          [
           7020.320000000001,
           7183.56,
           "Kyurem99XD",
           1
          ],
          [
           7346.8,
           7510.040000000001,
           "Sir_Willis_CMS",
           1
          ],
          [
           7999.76,
           8163,
           "aGoldenWhale",
           1
          ],
          [
           8652.720000000001,
           8815.960000000001,
           "timewaitsforsome",
           1
          ],
          [
           8979.2,
           9142.44,
           "Marvelvsdc00, pineapple_lumps",
           2
          ],
          [
           10285.12,
           10448.36,
           "imgurtranscriber",
           1
          ],
          [
           12244,
           12407.240000000002,
           "MTGCardFetcher",
           1
          ],
          [
           13713.16,
           13876.400000000001,
           "Doctor-Kitten",
           1
          ],
          [
           16161.76,
           16325,
           "TweetPoster",
           1
          ]
         ],
         "hovertemplate": "<b>Count Range:</b> [%{customdata[0]:.0f} - %{customdata[1]:.0f})<br><b>Normalized Frequency:</b> %{y:.4f}<br><b>Original Frequency:</b> %{customdata[3]}<br><b>Top Authors:</b> %{customdata[2]}<extra></extra>",
         "legendgroup": "",
         "marker": {
          "color": "#636efa",
          "pattern": {
           "shape": ""
          }
         },
         "name": "",
         "orientation": "v",
         "showlegend": false,
         "textposition": "auto",
         "type": "bar",
         "x": {
          "bdata": "SOF6FK6nVEDsUbgehbtuQJqZmZmZkXlAH4XrUbjigUBxPQrXo/yGQMP1KFyPFoxACtejcD2YkEA0MzMzMyWTQFyPwvUospVAhutRuB4/mECuR+F6FMyaQNijcD0KWZ1AAAAAAADmn0AUrkfhejmhQCpcj8L1f6JAPgrXo3DGo0BSuB6F6wylQGZmZmZmU6ZAfBSuR+GZp0CQwvUoXOCoQKRwPQrXJqpAuB6F61Ftq0DOzMzMzLOsQOJ6FK5H+q1A9ihcj8JAr0CF61G4nkOwQJDC9Sjc5rBAmpmZmRmKsUCkcD0KVy2yQK5H4XqU0LJAuR6F69Fzs0DD9ShcDxe0QM3MzMxMurRA16NwPYpdtUDsUbgeBaS2QAAAAACA6rdAC9ejcL2NuEApXI/CdXe6QDQzMzOzGrtAPgrXo/C9u0BSuB6FawS9QHsUrkdhkb9AUrgehSsPwUBcj8L1aLLBQIbrUbheP8RAw/UoXM8SyEBxPQrXY/HKQD4K16Owuc9A",
          "dtype": "f8"
         },
         "xaxis": "x",
         "y": {
          "bdata": "F2fqW6NV7z/iJpFVG+mMP2BJ6WyrTG4/X8zB+XYyVz8OgazGiYdFPyBKck/n+jQ/QZKGlAmUKj/vMudn0CIeP8auG5QINRI/83xeNGlwBz/2xtUAAr4AP/HXIs6cyfo+c098Z8/D9T6yk88atkboPnX0t82bauI+9sbVAAK+4D7zfF40aXDXPvHXIs6cydo+9sbVAAK+0D519LfNm2rSPvbG1QACvsA+8dcizpzJyj70IZqaNRfEPvN8XjRpcMc+8dcizpzJuj72xtUAAr7APvQhmpo1F7Q+9CGamjUXxD7x1yLOnMmqPvHXIs6cyZo+8dcizpzJqj7x1yLOnMmqPvHXIs6cyao+8dcizpzJmj70IZqaNRe0PvHXIs6cyZo+8dcizpzJqj7x1yLOnMmqPvHXIs6cyZo+8dcizpzJmj7x1yLOnMmaPvHXIs6cyZo+8dcizpzJmj7x1yLOnMmqPvHXIs6cyZo+8dcizpzJmj7x1yLOnMmaPvHXIs6cyZo+",
          "dtype": "f8"
         },
         "yaxis": "y"
        }
       ],
       "layout": {
        "bargap": 0,
        "barmode": "relative",
        "legend": {
         "tracegroupgap": 0
        },
        "template": {
         "data": {
          "bar": [
           {
            "error_x": {
             "color": "#2a3f5f"
            },
            "error_y": {
             "color": "#2a3f5f"
            },
            "marker": {
             "line": {
              "color": "#E5ECF6",
              "width": 0.5
             },
             "pattern": {
              "fillmode": "overlay",
              "size": 10,
              "solidity": 0.2
             }
            },
            "type": "bar"
           }
          ],
          "barpolar": [
           {
            "marker": {
             "line": {
              "color": "#E5ECF6",
              "width": 0.5
             },
             "pattern": {
              "fillmode": "overlay",
              "size": 10,
              "solidity": 0.2
             }
            },
            "type": "barpolar"
           }
          ],
          "carpet": [
           {
            "aaxis": {
             "endlinecolor": "#2a3f5f",
             "gridcolor": "white",
             "linecolor": "white",
             "minorgridcolor": "white",
             "startlinecolor": "#2a3f5f"
            },
            "baxis": {
             "endlinecolor": "#2a3f5f",
             "gridcolor": "white",
             "linecolor": "white",
             "minorgridcolor": "white",
             "startlinecolor": "#2a3f5f"
            },
            "type": "carpet"
           }
          ],
          "choropleth": [
           {
            "colorbar": {
             "outlinewidth": 0,
             "ticks": ""
            },
            "type": "choropleth"
           }
          ],
          "contour": [
           {
            "colorbar": {
             "outlinewidth": 0,
             "ticks": ""
            },
            "colorscale": [
             [
              0,
              "#0d0887"
             ],
             [
              0.1111111111111111,
              "#46039f"
             ],
             [
              0.2222222222222222,
              "#7201a8"
             ],
             [
              0.3333333333333333,
              "#9c179e"
             ],
             [
              0.4444444444444444,
              "#bd3786"
             ],
             [
              0.5555555555555556,
              "#d8576b"
             ],
             [
              0.6666666666666666,
              "#ed7953"
             ],
             [
              0.7777777777777778,
              "#fb9f3a"
             ],
             [
              0.8888888888888888,
              "#fdca26"
             ],
             [
              1,
              "#f0f921"
             ]
            ],
            "type": "contour"
           }
          ],
          "contourcarpet": [
           {
            "colorbar": {
             "outlinewidth": 0,
             "ticks": ""
            },
            "type": "contourcarpet"
           }
          ],
          "heatmap": [
           {
            "colorbar": {
             "outlinewidth": 0,
             "ticks": ""
            },
            "colorscale": [
             [
              0,
              "#0d0887"
             ],
             [
              0.1111111111111111,
              "#46039f"
             ],
             [
              0.2222222222222222,
              "#7201a8"
             ],
             [
              0.3333333333333333,
              "#9c179e"
             ],
             [
              0.4444444444444444,
              "#bd3786"
             ],
             [
              0.5555555555555556,
              "#d8576b"
             ],
             [
              0.6666666666666666,
              "#ed7953"
             ],
             [
              0.7777777777777778,
              "#fb9f3a"
             ],
             [
              0.8888888888888888,
              "#fdca26"
             ],
             [
              1,
              "#f0f921"
             ]
            ],
            "type": "heatmap"
           }
          ],
          "histogram": [
           {
            "marker": {
             "pattern": {
              "fillmode": "overlay",
              "size": 10,
              "solidity": 0.2
             }
            },
            "type": "histogram"
           }
          ],
          "histogram2d": [
           {
            "colorbar": {
             "outlinewidth": 0,
             "ticks": ""
            },
            "colorscale": [
             [
              0,
              "#0d0887"
             ],
             [
              0.1111111111111111,
              "#46039f"
             ],
             [
              0.2222222222222222,
              "#7201a8"
             ],
             [
              0.3333333333333333,
              "#9c179e"
             ],
             [
              0.4444444444444444,
              "#bd3786"
             ],
             [
              0.5555555555555556,
              "#d8576b"
             ],
             [
              0.6666666666666666,
              "#ed7953"
             ],
             [
              0.7777777777777778,
              "#fb9f3a"
             ],
             [
              0.8888888888888888,
              "#fdca26"
             ],
             [
              1,
              "#f0f921"
             ]
            ],
            "type": "histogram2d"
           }
          ],
          "histogram2dcontour": [
           {
            "colorbar": {
             "outlinewidth": 0,
             "ticks": ""
            },
            "colorscale": [
             [
              0,
              "#0d0887"
             ],
             [
              0.1111111111111111,
              "#46039f"
             ],
             [
              0.2222222222222222,
              "#7201a8"
             ],
             [
              0.3333333333333333,
              "#9c179e"
             ],
             [
              0.4444444444444444,
              "#bd3786"
             ],
             [
              0.5555555555555556,
              "#d8576b"
             ],
             [
              0.6666666666666666,
              "#ed7953"
             ],
             [
              0.7777777777777778,
              "#fb9f3a"
             ],
             [
              0.8888888888888888,
              "#fdca26"
             ],
             [
              1,
              "#f0f921"
             ]
            ],
            "type": "histogram2dcontour"
           }
          ],
          "mesh3d": [
           {
            "colorbar": {
             "outlinewidth": 0,
             "ticks": ""
            },
            "type": "mesh3d"
           }
          ],
          "parcoords": [
           {
            "line": {
             "colorbar": {
              "outlinewidth": 0,
              "ticks": ""
             }
            },
            "type": "parcoords"
           }
          ],
          "pie": [
           {
            "automargin": true,
            "type": "pie"
           }
          ],
          "scatter": [
           {
            "fillpattern": {
             "fillmode": "overlay",
             "size": 10,
             "solidity": 0.2
            },
            "type": "scatter"
           }
          ],
          "scatter3d": [
           {
            "line": {
             "colorbar": {
              "outlinewidth": 0,
              "ticks": ""
             }
            },
            "marker": {
             "colorbar": {
              "outlinewidth": 0,
              "ticks": ""
             }
            },
            "type": "scatter3d"
           }
          ],
          "scattercarpet": [
           {
            "marker": {
             "colorbar": {
              "outlinewidth": 0,
              "ticks": ""
             }
            },
            "type": "scattercarpet"
           }
          ],
          "scattergeo": [
           {
            "marker": {
             "colorbar": {
              "outlinewidth": 0,
              "ticks": ""
             }
            },
            "type": "scattergeo"
           }
          ],
          "scattergl": [
           {
            "marker": {
             "colorbar": {
              "outlinewidth": 0,
              "ticks": ""
             }
            },
            "type": "scattergl"
           }
          ],
          "scattermap": [
           {
            "marker": {
             "colorbar": {
              "outlinewidth": 0,
              "ticks": ""
             }
            },
            "type": "scattermap"
           }
          ],
          "scattermapbox": [
           {
            "marker": {
             "colorbar": {
              "outlinewidth": 0,
              "ticks": ""
             }
            },
            "type": "scattermapbox"
           }
          ],
          "scatterpolar": [
           {
            "marker": {
             "colorbar": {
              "outlinewidth": 0,
              "ticks": ""
             }
            },
            "type": "scatterpolar"
           }
          ],
          "scatterpolargl": [
           {
            "marker": {
             "colorbar": {
              "outlinewidth": 0,
              "ticks": ""
             }
            },
            "type": "scatterpolargl"
           }
          ],
          "scatterternary": [
           {
            "marker": {
             "colorbar": {
              "outlinewidth": 0,
              "ticks": ""
             }
            },
            "type": "scatterternary"
           }
          ],
          "surface": [
           {
            "colorbar": {
             "outlinewidth": 0,
             "ticks": ""
            },
            "colorscale": [
             [
              0,
              "#0d0887"
             ],
             [
              0.1111111111111111,
              "#46039f"
             ],
             [
              0.2222222222222222,
              "#7201a8"
             ],
             [
              0.3333333333333333,
              "#9c179e"
             ],
             [
              0.4444444444444444,
              "#bd3786"
             ],
             [
              0.5555555555555556,
              "#d8576b"
             ],
             [
              0.6666666666666666,
              "#ed7953"
             ],
             [
              0.7777777777777778,
              "#fb9f3a"
             ],
             [
              0.8888888888888888,
              "#fdca26"
             ],
             [
              1,
              "#f0f921"
             ]
            ],
            "type": "surface"
           }
          ],
          "table": [
           {
            "cells": {
             "fill": {
              "color": "#EBF0F8"
             },
             "line": {
              "color": "white"
             }
            },
            "header": {
             "fill": {
              "color": "#C8D4E3"
             },
             "line": {
              "color": "white"
             }
            },
            "type": "table"
           }
          ]
         },
         "layout": {
          "annotationdefaults": {
           "arrowcolor": "#2a3f5f",
           "arrowhead": 0,
           "arrowwidth": 1
          },
          "autotypenumbers": "strict",
          "coloraxis": {
           "colorbar": {
            "outlinewidth": 0,
            "ticks": ""
           }
          },
          "colorscale": {
           "diverging": [
            [
             0,
             "#8e0152"
            ],
            [
             0.1,
             "#c51b7d"
            ],
            [
             0.2,
             "#de77ae"
            ],
            [
             0.3,
             "#f1b6da"
            ],
            [
             0.4,
             "#fde0ef"
            ],
            [
             0.5,
             "#f7f7f7"
            ],
            [
             0.6,
             "#e6f5d0"
            ],
            [
             0.7,
             "#b8e186"
            ],
            [
             0.8,
             "#7fbc41"
            ],
            [
             0.9,
             "#4d9221"
            ],
            [
             1,
             "#276419"
            ]
           ],
           "sequential": [
            [
             0,
             "#0d0887"
            ],
            [
             0.1111111111111111,
             "#46039f"
            ],
            [
             0.2222222222222222,
             "#7201a8"
            ],
            [
             0.3333333333333333,
             "#9c179e"
            ],
            [
             0.4444444444444444,
             "#bd3786"
            ],
            [
             0.5555555555555556,
             "#d8576b"
            ],
            [
             0.6666666666666666,
             "#ed7953"
            ],
            [
             0.7777777777777778,
             "#fb9f3a"
            ],
            [
             0.8888888888888888,
             "#fdca26"
            ],
            [
             1,
             "#f0f921"
            ]
           ],
           "sequentialminus": [
            [
             0,
             "#0d0887"
            ],
            [
             0.1111111111111111,
             "#46039f"
            ],
            [
             0.2222222222222222,
             "#7201a8"
            ],
            [
             0.3333333333333333,
             "#9c179e"
            ],
            [
             0.4444444444444444,
             "#bd3786"
            ],
            [
             0.5555555555555556,
             "#d8576b"
            ],
            [
             0.6666666666666666,
             "#ed7953"
            ],
            [
             0.7777777777777778,
             "#fb9f3a"
            ],
            [
             0.8888888888888888,
             "#fdca26"
            ],
            [
             1,
             "#f0f921"
            ]
           ]
          },
          "colorway": [
           "#636efa",
           "#EF553B",
           "#00cc96",
           "#ab63fa",
           "#FFA15A",
           "#19d3f3",
           "#FF6692",
           "#B6E880",
           "#FF97FF",
           "#FECB52"
          ],
          "font": {
           "color": "#2a3f5f"
          },
          "geo": {
           "bgcolor": "white",
           "lakecolor": "white",
           "landcolor": "#E5ECF6",
           "showlakes": true,
           "showland": true,
           "subunitcolor": "white"
          },
          "hoverlabel": {
           "align": "left"
          },
          "hovermode": "closest",
          "mapbox": {
           "style": "light"
          },
          "paper_bgcolor": "white",
          "plot_bgcolor": "#E5ECF6",
          "polar": {
           "angularaxis": {
            "gridcolor": "white",
            "linecolor": "white",
            "ticks": ""
           },
           "bgcolor": "#E5ECF6",
           "radialaxis": {
            "gridcolor": "white",
            "linecolor": "white",
            "ticks": ""
           }
          },
          "scene": {
           "xaxis": {
            "backgroundcolor": "#E5ECF6",
            "gridcolor": "white",
            "gridwidth": 2,
            "linecolor": "white",
            "showbackground": true,
            "ticks": "",
            "zerolinecolor": "white"
           },
           "yaxis": {
            "backgroundcolor": "#E5ECF6",
            "gridcolor": "white",
            "gridwidth": 2,
            "linecolor": "white",
            "showbackground": true,
            "ticks": "",
            "zerolinecolor": "white"
           },
           "zaxis": {
            "backgroundcolor": "#E5ECF6",
            "gridcolor": "white",
            "gridwidth": 2,
            "linecolor": "white",
            "showbackground": true,
            "ticks": "",
            "zerolinecolor": "white"
           }
          },
          "shapedefaults": {
           "line": {
            "color": "#2a3f5f"
           }
          },
          "ternary": {
           "aaxis": {
            "gridcolor": "white",
            "linecolor": "white",
            "ticks": ""
           },
           "baxis": {
            "gridcolor": "white",
            "linecolor": "white",
            "ticks": ""
           },
           "bgcolor": "#E5ECF6",
           "caxis": {
            "gridcolor": "white",
            "linecolor": "white",
            "ticks": ""
           }
          },
          "title": {
           "x": 0.05
          },
          "xaxis": {
           "automargin": true,
           "gridcolor": "white",
           "linecolor": "white",
           "ticks": "",
           "title": {
            "standoff": 15
           },
           "zerolinecolor": "white",
           "zerolinewidth": 2
          },
          "yaxis": {
           "automargin": true,
           "gridcolor": "white",
           "linecolor": "white",
           "ticks": "",
           "title": {
            "standoff": 15
           },
           "zerolinecolor": "white",
           "zerolinewidth": 2
          }
         }
        },
        "title": {
         "text": "Interactive Distribution of User Comment Counts (Normalized Frequency)"
        },
        "xaxis": {
         "anchor": "y",
         "domain": [
          0,
          1
         ],
         "title": {
          "text": "Number of Comments per User (Binned)"
         }
        },
        "yaxis": {
         "anchor": "x",
         "domain": [
          0,
          1
         ],
         "title": {
          "text": "Normalized Frequency (Log Scale)"
         },
         "type": "log"
        }
       }
      }
     },
     "metadata": {},
     "output_type": "display_data"
    }
   ],
   "source": [
    "# plot distribution of counts values (interactive with top authors on hover, normalized frequency)\n",
    "import plotly.express as px\n",
    "import polars as pl\n",
    "import pandas as pd\n",
    "import numpy as np # Import numpy\n",
    "\n",
    "# Assume 'filtered_df' is a Polars DataFrame with 'author' and 'count' columns loaded previously\n",
    "# filtered_df = ... (load or define filtered_df here if not already done)\n",
    "\n",
    "# --- Manual Binning and Author Aggregation ---\n",
    "counts_np = filtered_df['count'].to_numpy()\n",
    "total_users = len(filtered_df) # Get total number of users for normalization\n",
    "num_bins = 100 # Define the number of bins\n",
    "\n",
    "# 1. Calculate histogram frequencies and bin edges using NumPy\n",
    "frequencies, bin_edges = np.histogram(counts_np, bins=num_bins)\n",
    "\n",
    "# 1.1 Calculate normalized frequencies (density)\n",
    "normalized_frequencies = frequencies / total_users\n",
    "\n",
    "# 2. Calculate bin centers (for plotting on x-axis)\n",
    "bin_centers = (bin_edges[:-1] + bin_edges[1:]) / 2\n",
    "\n",
    "# 3. For each bin, find the top N authors within that count range\n",
    "top_authors_per_bin = []\n",
    "max_authors_to_show = 10\n",
    "\n",
    "for i in range(num_bins):\n",
    "    lower_bound = bin_edges[i]\n",
    "    upper_bound = bin_edges[i+1]\n",
    "\n",
    "    # Find authors in the current bin's count range\n",
    "    # Ensure the upper bound is inclusive for the last bin edge case\n",
    "    if i == num_bins - 1:\n",
    "         authors_in_bin_df = filtered_df.filter(\n",
    "            (pl.col(\"count\") >= lower_bound) & (pl.col(\"count\") <= upper_bound)\n",
    "        )\n",
    "    else:\n",
    "        authors_in_bin_df = filtered_df.filter(\n",
    "            (pl.col(\"count\") >= lower_bound) & (pl.col(\"count\") < upper_bound)\n",
    "        )\n",
    "\n",
    "    # Get top authors (here, just taking the first N found in the filter, consider sorting if needed)\n",
    "    top_authors_list = authors_in_bin_df.get_column(\"author\").head(max_authors_to_show).to_list()\n",
    "\n",
    "    if not top_authors_list:\n",
    "        top_authors_per_bin.append(\"N/A\")\n",
    "    else:\n",
    "        authors_str = \", \".join(top_authors_list)\n",
    "        if len(authors_in_bin_df) > max_authors_to_show:\n",
    "             authors_str += \", ...\" # Indicate if there are more authors\n",
    "        top_authors_per_bin.append(authors_str)\n",
    "\n",
    "\n",
    "# 4. Create a Pandas DataFrame for Plotly Bar chart\n",
    "plot_df = pd.DataFrame({\n",
    "    'bin_center': bin_centers,\n",
    "    'frequency': frequencies, # Keep original frequency for potential use/checking\n",
    "    'normalized_frequency': normalized_frequencies, # Add normalized frequency\n",
    "    'bin_start': bin_edges[:-1],\n",
    "    'bin_end': bin_edges[1:],\n",
    "    'top_authors': top_authors_per_bin\n",
    "})\n",
    "\n",
    "# Filter out bins with zero frequency to avoid plotting empty bars (optional)\n",
    "plot_df = plot_df[plot_df['frequency'] > 0]\n",
    "\n",
    "# --- Create the Interactive Bar Chart (acting as Histogram) ---\n",
    "fig = px.bar(\n",
    "    plot_df,\n",
    "    x='bin_center',\n",
    "    y='normalized_frequency', # Use normalized frequency for the y-axis\n",
    "    log_y=True, # Use logarithmic y-axis\n",
    "    title=\"Interactive Distribution of User Comment Counts (Normalized Frequency)\",\n",
    "    labels={'bin_center': 'Approx. Number of Comments per User', 'normalized_frequency': 'Normalized Frequency'}, # Customize axis labels\n",
    "    custom_data=['bin_start', 'bin_end', 'top_authors', 'frequency'] # Pass data needed for hover (incl. original freq)\n",
    ")\n",
    "\n",
    "# Customize the hover template\n",
    "fig.update_traces(\n",
    "    hovertemplate=\"<b>Count Range:</b> [%{customdata[0]:.0f} - %{customdata[1]:.0f})<br>\" +\n",
    "                  \"<b>Normalized Frequency:</b> %{y:.4f}<br>\" + # Format normalized frequency\n",
    "                  \"<b>Original Frequency:</b> %{customdata[3]}<br>\" + # Show original count too\n",
    "                  \"<b>Top Authors:</b> %{customdata[2]}\" +\n",
    "                  \"<extra></extra>\" # Removes the default trace info\n",
    ")\n",
    "\n",
    "\n",
    "# Update layout for better readability (optional)\n",
    "fig.update_layout(\n",
    "    xaxis_title=\"Number of Comments per User (Binned)\",\n",
    "    yaxis_title=\"Normalized Frequency (Log Scale)\", # Update y-axis title\n",
    "    bargap=0 # Set bargap to 0 for histogram appearance\n",
    ")\n",
    "\n",
    "# Show the interactive figure\n",
    "fig.show()"
   ]
  },
  {
   "cell_type": "code",
   "execution_count": 16,
   "metadata": {},
   "outputs": [],
   "source": [
    "import polars \n",
    "\n",
    "dd = polars.read_parquet(\"../data/test_cache/RS_2015-08.parquet\")"
   ]
  },
  {
   "cell_type": "code",
   "execution_count": 17,
   "metadata": {},
   "outputs": [
    {
     "data": {
      "text/html": [
       "<div><style>\n",
       ".dataframe > thead > tr,\n",
       ".dataframe > tbody > tr {\n",
       "  text-align: right;\n",
       "  white-space: pre-wrap;\n",
       "}\n",
       "</style>\n",
       "<small>shape: (5, 23)</small><table border=\"1\" class=\"dataframe\"><thead><tr><th>id</th><th>url</th><th>permalink</th><th>author</th><th>created_utc</th><th>subreddit</th><th>subreddit_id</th><th>selftext</th><th>title</th><th>num_comments</th><th>score</th><th>is_self</th><th>over_18</th><th>distinguished</th><th>edited</th><th>domain</th><th>stickied</th><th>locked</th><th>quarantine</th><th>score_hidden</th><th>retrieved_on</th><th>author_flair_css_class</th><th>author_flair_text</th></tr><tr><td>str</td><td>str</td><td>str</td><td>str</td><td>i64</td><td>str</td><td>str</td><td>str</td><td>str</td><td>i64</td><td>i64</td><td>bool</td><td>bool</td><td>str</td><td>str</td><td>str</td><td>bool</td><td>bool</td><td>bool</td><td>bool</td><td>i64</td><td>str</td><td>str</td></tr></thead><tbody><tr><td>&quot;3fcrck&quot;</td><td>&quot;http://www.reddit.com/r/AskRed…</td><td>&quot;/r/AskReddit/comments/3fcrck/w…</td><td>&quot;ZioToons&quot;</td><td>1438387200</td><td>&quot;AskReddit&quot;</td><td>&quot;t5_2qh1i&quot;</td><td>&quot;&quot;</td><td>&quot;What job/career can everybody …</td><td>6</td><td>2</td><td>true</td><td>false</td><td>null</td><td>&quot;False&quot;</td><td>&quot;self.AskReddit&quot;</td><td>false</td><td>null</td><td>false</td><td>null</td><td>1440576395</td><td>null</td><td>null</td></tr><tr><td>&quot;3fcrcl&quot;</td><td>&quot;http://imgur.com/a/hIDWD&quot;</td><td>&quot;/r/Tentai/comments/3fcrcl/kann…</td><td>&quot;BillNyeTheHentaiGuy&quot;</td><td>1438387200</td><td>&quot;Tentai&quot;</td><td>&quot;t5_2vtmc&quot;</td><td>&quot;&quot;</td><td>&quot;KanNomi&quot;</td><td>0</td><td>77</td><td>false</td><td>true</td><td>null</td><td>&quot;False&quot;</td><td>&quot;imgur.com&quot;</td><td>false</td><td>null</td><td>false</td><td>null</td><td>1440576395</td><td>null</td><td>null</td></tr><tr><td>&quot;3fcrcm&quot;</td><td>&quot;https://glassesbeyondglasses.b…</td><td>&quot;/r/listentothis/comments/3fcrc…</td><td>&quot;Vensuad&quot;</td><td>1438387200</td><td>&quot;listentothis&quot;</td><td>&quot;t5_2qxzy&quot;</td><td>&quot;&quot;</td><td>&quot;Glasses Beyond Glasses -- Comp…</td><td>1</td><td>1</td><td>false</td><td>false</td><td>null</td><td>&quot;False&quot;</td><td>&quot;glassesbeyondglasses.bandcamp.…</td><td>false</td><td>null</td><td>false</td><td>null</td><td>1440576395</td><td>&quot;lastfm&quot;</td><td>&quot;lastfm/user/Zakk2Gud&quot;</td></tr><tr><td>&quot;3fcrcn&quot;</td><td>&quot;http://i.imgur.com/OipFzdc.jpg&quot;</td><td>&quot;/r/ImGoingToHellForThis/commen…</td><td>&quot;[deleted]&quot;</td><td>1438387201</td><td>&quot;ImGoingToHellForThis&quot;</td><td>&quot;t5_2s7yq&quot;</td><td>&quot;&quot;</td><td>&quot;All this Cecil the Lion commot…</td><td>0</td><td>2</td><td>false</td><td>true</td><td>null</td><td>&quot;False&quot;</td><td>&quot;i.imgur.com&quot;</td><td>false</td><td>null</td><td>false</td><td>null</td><td>1440576395</td><td>null</td><td>null</td></tr><tr><td>&quot;3fcrco&quot;</td><td>&quot;http://www.reddit.com/r/alcoho…</td><td>&quot;/r/alcohol/comments/3fcrco/loo…</td><td>&quot;awesome-j&quot;</td><td>1438387201</td><td>&quot;alcohol&quot;</td><td>&quot;t5_2qi6q&quot;</td><td>&quot;My 23 birthday is in a month a…</td><td>&quot;Looking for some nice liqour&quot;</td><td>2</td><td>3</td><td>true</td><td>false</td><td>null</td><td>&quot;False&quot;</td><td>&quot;self.alcohol&quot;</td><td>false</td><td>null</td><td>false</td><td>null</td><td>1440576395</td><td>null</td><td>null</td></tr></tbody></table></div>"
      ],
      "text/plain": [
       "shape: (5, 23)\n",
       "┌────────┬────────────┬────────────┬───────────┬───┬───────────┬───────────┬───────────┬───────────┐\n",
       "│ id     ┆ url        ┆ permalink  ┆ author    ┆ … ┆ score_hid ┆ retrieved ┆ author_fl ┆ author_fl │\n",
       "│ ---    ┆ ---        ┆ ---        ┆ ---       ┆   ┆ den       ┆ _on       ┆ air_css_c ┆ air_text  │\n",
       "│ str    ┆ str        ┆ str        ┆ str       ┆   ┆ ---       ┆ ---       ┆ lass      ┆ ---       │\n",
       "│        ┆            ┆            ┆           ┆   ┆ bool      ┆ i64       ┆ ---       ┆ str       │\n",
       "│        ┆            ┆            ┆           ┆   ┆           ┆           ┆ str       ┆           │\n",
       "╞════════╪════════════╪════════════╪═══════════╪═══╪═══════════╪═══════════╪═══════════╪═══════════╡\n",
       "│ 3fcrck ┆ http://www ┆ /r/AskRedd ┆ ZioToons  ┆ … ┆ null      ┆ 144057639 ┆ null      ┆ null      │\n",
       "│        ┆ .reddit.co ┆ it/comment ┆           ┆   ┆           ┆ 5         ┆           ┆           │\n",
       "│        ┆ m/r/AskRed ┆ s/3fcrck/w ┆           ┆   ┆           ┆           ┆           ┆           │\n",
       "│        ┆ …          ┆ …          ┆           ┆   ┆           ┆           ┆           ┆           │\n",
       "│ 3fcrcl ┆ http://img ┆ /r/Tentai/ ┆ BillNyeTh ┆ … ┆ null      ┆ 144057639 ┆ null      ┆ null      │\n",
       "│        ┆ ur.com/a/h ┆ comments/3 ┆ eHentaiGu ┆   ┆           ┆ 5         ┆           ┆           │\n",
       "│        ┆ IDWD       ┆ fcrcl/kann ┆ y         ┆   ┆           ┆           ┆           ┆           │\n",
       "│        ┆            ┆ …          ┆           ┆   ┆           ┆           ┆           ┆           │\n",
       "│ 3fcrcm ┆ https://gl ┆ /r/listent ┆ Vensuad   ┆ … ┆ null      ┆ 144057639 ┆ lastfm    ┆ lastfm/us │\n",
       "│        ┆ assesbeyon ┆ othis/comm ┆           ┆   ┆           ┆ 5         ┆           ┆ er/Zakk2G │\n",
       "│        ┆ dglasses.b ┆ ents/3fcrc ┆           ┆   ┆           ┆           ┆           ┆ ud        │\n",
       "│        ┆ …          ┆ …          ┆           ┆   ┆           ┆           ┆           ┆           │\n",
       "│ 3fcrcn ┆ http://i.i ┆ /r/ImGoing ┆ [deleted] ┆ … ┆ null      ┆ 144057639 ┆ null      ┆ null      │\n",
       "│        ┆ mgur.com/O ┆ ToHellForT ┆           ┆   ┆           ┆ 5         ┆           ┆           │\n",
       "│        ┆ ipFzdc.jpg ┆ his/commen ┆           ┆   ┆           ┆           ┆           ┆           │\n",
       "│        ┆            ┆ …          ┆           ┆   ┆           ┆           ┆           ┆           │\n",
       "│ 3fcrco ┆ http://www ┆ /r/alcohol ┆ awesome-j ┆ … ┆ null      ┆ 144057639 ┆ null      ┆ null      │\n",
       "│        ┆ .reddit.co ┆ /comments/ ┆           ┆   ┆           ┆ 5         ┆           ┆           │\n",
       "│        ┆ m/r/alcoho ┆ 3fcrco/loo ┆           ┆   ┆           ┆           ┆           ┆           │\n",
       "│        ┆ …          ┆ …          ┆           ┆   ┆           ┆           ┆           ┆           │\n",
       "└────────┴────────────┴────────────┴───────────┴───┴───────────┴───────────┴───────────┴───────────┘"
      ]
     },
     "execution_count": 17,
     "metadata": {},
     "output_type": "execute_result"
    }
   ],
   "source": [
    "dd.head()"
   ]
  },
  {
   "cell_type": "code",
   "execution_count": null,
   "metadata": {},
   "outputs": [],
   "source": []
  }
 ],
 "metadata": {
  "kernelspec": {
   "display_name": ".venv",
   "language": "python",
   "name": "python3"
  },
  "language_info": {
   "codemirror_mode": {
    "name": "ipython",
    "version": 3
   },
   "file_extension": ".py",
   "mimetype": "text/x-python",
   "name": "python",
   "nbconvert_exporter": "python",
   "pygments_lexer": "ipython3",
   "version": "3.13.2"
  }
 },
 "nbformat": 4,
 "nbformat_minor": 2
}
